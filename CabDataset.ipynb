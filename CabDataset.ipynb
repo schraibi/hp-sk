{
 "cells": [
  {
   "cell_type": "code",
   "execution_count": 10,
   "metadata": {
    "collapsed": false
   },
   "outputs": [],
   "source": [
    "import sklearn.metrics\n",
    "import pandas as pd\n",
    "import numpy as np \n",
    "from sklearn.preprocessing import LabelEncoder\n",
    "from sklearn.metrics import confusion_matrix\n",
    "from hpsklearn import estimator, components\n",
    "%matplotlib inline\n",
    "from hyperopt import tpe\n",
    "import fonctions_auxiliaires"
   ]
  },
  {
   "cell_type": "code",
   "execution_count": 21,
   "metadata": {
    "collapsed": false
   },
   "outputs": [],
   "source": [
    "data = pd.read_csv('Kaggle_YourCabs_training.csv',delimiter=',')\n",
    "score = pd.read_csv('Kaggle_YourCabs_score.csv',delimiter=',')"
   ]
  },
  {
   "cell_type": "code",
   "execution_count": 3,
   "metadata": {
    "collapsed": false
   },
   "outputs": [],
   "source": [
    "y = data['Car_Cancellation']\n",
    "COE = data['Cost_of_error']\n",
    "\n",
    "del data['Car_Cancellation']\n",
    "del data['Cost_of_error']\n",
    "del data['id']\n",
    "\n",
    "data.columns = data.columns.str.replace('from_date','from_date_date')\n",
    "data.columns = data.columns.str.replace('booking_created','booking_created_date')\n",
    "\n",
    "data['from_date_hour'] = None\n",
    "data['booking_created_hour'] = None"
   ]
  },
  {
   "cell_type": "code",
   "execution_count": 4,
   "metadata": {
    "collapsed": false
   },
   "outputs": [
    {
     "name": "stdout",
     "output_type": "stream",
     "text": [
      "0\n",
      "5000\n",
      "10000\n",
      "15000\n",
      "20000\n",
      "25000\n",
      "30000\n",
      "35000\n",
      "40000\n"
     ]
    }
   ],
   "source": [
    "for index in data.index : \n",
    "    \n",
    "    if(index%5000 == 0) :\n",
    "        print(index)\n",
    "    \n",
    "    fdd , fdh = data.loc[index]['from_date_date'].split(' ')\n",
    "    bcd , bch =  data.loc[index]['booking_created_date'].split(' ')\n",
    "    \n",
    "    data.set_value(index=index, col='from_date_date' , value=fdd)\n",
    "    data.set_value(index=index, col='from_date_hour' , value=fdh)\n",
    "    \n",
    "    data.set_value(index=index, col='booking_created_date' , value=bcd)\n",
    "    data.set_value(index=index, col='booking_created_hour' , value=bch)    "
   ]
  },
  {
   "cell_type": "code",
   "execution_count": 5,
   "metadata": {
    "collapsed": false
   },
   "outputs": [],
   "source": [
    "del score['Unnamed: 18']\n",
    "del score['Unnamed: 19']\n",
    "del score['id']\n",
    "\n",
    "score.columns = score.columns.str.replace('from_date','from_date_date')\n",
    "score.columns = score.columns.str.replace('booking_created','booking_created_date')\n",
    "\n",
    "score['from_date_hour'] = None\n",
    "score['booking_created_hour'] = None"
   ]
  },
  {
   "cell_type": "code",
   "execution_count": 6,
   "metadata": {
    "collapsed": false
   },
   "outputs": [
    {
     "name": "stdout",
     "output_type": "stream",
     "text": [
      "0\n",
      "5000\n"
     ]
    }
   ],
   "source": [
    "for index in score.index : \n",
    "    \n",
    "    if(index%5000 == 0) :\n",
    "        print(index)\n",
    "    \n",
    "    fdd , fdh = score.loc[index]['from_date_date'].split(' ')\n",
    "    bcd , bch =  score.loc[index]['booking_created_date'].split(' ')\n",
    "    \n",
    "    score.set_value(index=index, col='from_date_date' , value=fdd)\n",
    "    score.set_value(index=index, col='from_date_hour' , value=fdh)\n",
    "    \n",
    "    score.set_value(index=index, col='booking_created_date' , value=bcd)\n",
    "    score.set_value(index=index, col='booking_created_hour' , value=bch)    "
   ]
  },
  {
   "cell_type": "code",
   "execution_count": 7,
   "metadata": {
    "collapsed": false
   },
   "outputs": [],
   "source": [
    "le_fdd = LabelEncoder()\n",
    "le_bcd = LabelEncoder()\n",
    "le_fdh = LabelEncoder()\n",
    "le_bch = LabelEncoder()\n",
    "\n",
    "data.from_date_date = le_fdd.fit_transform(data.from_date_date)\n",
    "data.from_date_hour = le_fdh.fit_transform(data.from_date_hour)\n",
    "data.booking_created_date = le_bcd.fit_transform(data.booking_created_date)\n",
    "data.booking_created_hour = le_bch.fit_transform(data.booking_created_hour)\n",
    "\n",
    "score.from_date_date = le_fdd.fit_transform(score.from_date_date)\n",
    "score.from_date_hour = le_fdh.fit_transform(score.from_date_hour)\n",
    "score.booking_created_date = le_bcd.fit_transform(score.booking_created_date)\n",
    "score.booking_created_hour = le_bch.fit_transform(score.booking_created_hour)"
   ]
  },
  {
   "cell_type": "code",
   "execution_count": 8,
   "metadata": {
    "collapsed": false
   },
   "outputs": [],
   "source": [
    "data.set_index(['user_id']).to_csv('Cab-training.csv')"
   ]
  },
  {
   "cell_type": "markdown",
   "metadata": {},
   "source": [
    "** CV **"
   ]
  },
  {
   "cell_type": "code",
   "execution_count": 9,
   "metadata": {
    "collapsed": false
   },
   "outputs": [],
   "source": [
    "class_1 = set(y[y==1].index)\n",
    "class_0 = set(y[y==0].index)\n",
    "train_set_indices = set()\n",
    "test_set_indices = set()"
   ]
  },
  {
   "cell_type": "code",
   "execution_count": 10,
   "metadata": {
    "collapsed": true
   },
   "outputs": [],
   "source": [
    "for element in class_0 :    \n",
    "    if (np.random.uniform(0, 1) > 0.2) : \n",
    "        train_set_indices.add(element)\n",
    "    else : \n",
    "        test_set_indices.add(element)\n",
    "        \n",
    "for element in class_1 :    \n",
    "    if (np.random.uniform(0, 1) > 0.2) : \n",
    "        train_set_indices.add(element)\n",
    "    else : \n",
    "        test_set_indices.add(element)   "
   ]
  },
  {
   "cell_type": "code",
   "execution_count": 11,
   "metadata": {
    "collapsed": false
   },
   "outputs": [],
   "source": [
    "X_train = data.loc[train_set_indices]\n",
    "X_test = data.loc[test_set_indices]\n",
    "\n",
    "y_train  = y.loc[train_set_indices]\n",
    "y_test = y.loc[test_set_indices]"
   ]
  },
  {
   "cell_type": "code",
   "execution_count": 12,
   "metadata": {
    "collapsed": true
   },
   "outputs": [],
   "source": [
    "X_train = X_train.fillna(0)"
   ]
  },
  {
   "cell_type": "markdown",
   "metadata": {},
   "source": [
    "** AUTOML **"
   ]
  },
  {
   "cell_type": "code",
   "execution_count": 22,
   "metadata": {
    "collapsed": false
   },
   "outputs": [],
   "source": [
    "estim = estimator.hyperopt_estimator(classifier=components.any_classifier('clf'),algo=tpe.suggest, \\\n",
    "                                    fit_increment =1, fit_increment_dump_filename='cab_logfile')"
   ]
  },
  {
   "cell_type": "code",
   "execution_count": 23,
   "metadata": {
    "collapsed": false
   },
   "outputs": [],
   "source": [
    "estim.fit(np.ascontiguousarray(X_train),np.ascontiguousarray(y_train))"
   ]
  },
  {
   "cell_type": "code",
   "execution_count": 24,
   "metadata": {
    "collapsed": false
   },
   "outputs": [
    {
     "name": "stdout",
     "output_type": "stream",
     "text": [
      "0.927838311819\n"
     ]
    }
   ],
   "source": [
    "print(estim.score(X_train, y_train))"
   ]
  },
  {
   "cell_type": "code",
   "execution_count": 25,
   "metadata": {
    "collapsed": true
   },
   "outputs": [],
   "source": [
    "X_test = X_test.fillna(0)"
   ]
  },
  {
   "cell_type": "code",
   "execution_count": 26,
   "metadata": {
    "collapsed": false
   },
   "outputs": [
    {
     "name": "stdout",
     "output_type": "stream",
     "text": [
      "0.928075855689\n"
     ]
    }
   ],
   "source": [
    "print(estim.score(X_test, y_test))"
   ]
  },
  {
   "cell_type": "code",
   "execution_count": 27,
   "metadata": {
    "collapsed": false
   },
   "outputs": [],
   "source": [
    "y = estim.predict(X_test)\n",
    "confusion_m = confusion_matrix(y_true=y_test, y_pred = y)"
   ]
  },
  {
   "cell_type": "code",
   "execution_count": 93,
   "metadata": {
    "collapsed": false
   },
   "outputs": [],
   "source": [
    "precision = confusion_m[0,0]/(confusion_m[0,0] + confusion_m[1,0])\n",
    "recall = confusion_m[0,0] /(confusion_m[0,0] + confusion_m[0,1])"
   ]
  },
  {
   "cell_type": "code",
   "execution_count": 28,
   "metadata": {
    "collapsed": true
   },
   "outputs": [],
   "source": [
    "metrics_cab = fonctions_auxiliaires.metrics(estim, X_train, y_train, X_test, y_test, y)"
   ]
  },
  {
   "cell_type": "code",
   "execution_count": 94,
   "metadata": {
    "collapsed": false
   },
   "outputs": [
    {
     "name": "stdout",
     "output_type": "stream",
     "text": [
      "0.930005737235 0.996802361333\n"
     ]
    }
   ],
   "source": [
    "print(precision, recall)"
   ]
  },
  {
   "cell_type": "code",
   "execution_count": 95,
   "metadata": {
    "collapsed": true
   },
   "outputs": [],
   "source": [
    "F  = 2*(precision*recall)/(precision+recall)"
   ]
  },
  {
   "cell_type": "code",
   "execution_count": 96,
   "metadata": {
    "collapsed": false
   },
   "outputs": [
    {
     "data": {
      "text/plain": [
       "0.96224623055918324"
      ]
     },
     "execution_count": 96,
     "metadata": {},
     "output_type": "execute_result"
    }
   ],
   "source": [
    "F"
   ]
  },
  {
   "cell_type": "code",
   "execution_count": 97,
   "metadata": {
    "collapsed": false
   },
   "outputs": [
    {
     "data": {
      "text/plain": [
       "{'ex_preprocs': (),\n",
       " 'learner': KNeighborsClassifier(algorithm='auto', leaf_size=30, metric='euclidean',\n",
       "            metric_params=None, n_jobs=1, n_neighbors=42, p=2,\n",
       "            weights='distance'),\n",
       " 'preprocs': (MinMaxScaler(copy=True, feature_range=(-1.0, 1.0)),)}"
      ]
     },
     "execution_count": 97,
     "metadata": {},
     "output_type": "execute_result"
    }
   ],
   "source": [
    "estim.best_model()"
   ]
  },
  {
   "cell_type": "code",
   "execution_count": 104,
   "metadata": {
    "collapsed": false
   },
   "outputs": [
    {
     "data": {
      "image/png": "[encoded data removed]",
      "text/plain": [
       "<matplotlib.figure.Figure at 0x7fc68d208320>"
      ]
     },
     "metadata": {},
     "output_type": "display_data"
    }
   ],
   "source": [
    "from hpsklearn import demo_support\n",
    "import matplotlib.pyplot as plt\n",
    "% matplotlib inline\n",
    "fig = plt.figure()\n",
    "\n",
    "ax= fig.add_subplot(111)\n",
    "demo_support.scatter_error_vs_time(estim, ax)\n",
    "#ax2 = fig.add_subplot(111)\n",
    "#demo_support.plot_minvalid_vs_time(estim, ax2)"
   ]
  },
  {
   "cell_type": "code",
   "execution_count": 126,
   "metadata": {
    "collapsed": false,
    "scrolled": false
   },
   "outputs": [
    {
     "data": {
      "text/plain": [
       "[{'duration': 1.4387152194976807,\n",
       "  'loss': 0.1430631670031728,\n",
       "  'loss_variance': 1.7682979554333634e-05,\n",
       "  'status': 'ok'},\n",
       " {'duration': 6.440834045410156,\n",
       "  'loss': 0.1430631670031728,\n",
       "  'loss_variance': 1.7682979554333634e-05,\n",
       "  'status': 'ok'},\n",
       " {'duration': 54.137336015701294,\n",
       "  'loss': 0.1427747331987309,\n",
       "  'loss_variance': 1.7653268247333351e-05,\n",
       "  'status': 'ok'},\n",
       " {'duration': 89.8244423866272,\n",
       "  'loss': 0.14364003461205654,\n",
       "  'loss_variance': 1.7742330170013522e-05,\n",
       "  'status': 'ok'},\n",
       " {'duration': 7.18467116355896,\n",
       "  'loss': 0.18777040669166423,\n",
       "  'loss_variance': 2.1998078907040422e-05,\n",
       "  'status': 'ok'},\n",
       " {'duration': 89.38829493522644,\n",
       "  'loss': 0.1430631670031728,\n",
       "  'loss_variance': 1.7682979554333634e-05,\n",
       "  'status': 'ok'},\n",
       " {'duration': 1.992460012435913,\n",
       "  'loss': 0.1430631670031728,\n",
       "  'loss_variance': 1.7682979554333634e-05,\n",
       "  'status': 'ok'},\n",
       " {'duration': 9.89268183708191,\n",
       "  'loss': 0.1430631670031728,\n",
       "  'loss_variance': 1.7682979554333634e-05,\n",
       "  'status': 'ok'},\n",
       " {'failure': 'TimeOut', 'status': 'fail'},\n",
       " {'duration': 5.449505090713501,\n",
       "  'loss': 0.14349581770983555,\n",
       "  'loss_variance': 1.7727501515883626e-05,\n",
       "  'status': 'ok'}]"
      ]
     },
     "execution_count": 126,
     "metadata": {},
     "output_type": "execute_result"
    }
   ],
   "source": [
    "estim.trials.results"
   ]
  },
  {
   "cell_type": "code",
   "execution_count": 131,
   "metadata": {
    "collapsed": false,
    "scrolled": true
   },
   "outputs": [
    {
     "data": {
      "text/plain": [
       "82"
      ]
     },
     "execution_count": 131,
     "metadata": {},
     "output_type": "execute_result"
    }
   ],
   "source": [
    "class_values = estim.trials.vals\n",
    "len(class_values)"
   ]
  },
  {
   "cell_type": "code",
   "execution_count": 129,
   "metadata": {
    "collapsed": false
   },
   "outputs": [
    {
     "data": {
      "text/plain": [
       "[6, 1, 1, 1, 1, 3, 5, 4, 2, 3]"
      ]
     },
     "execution_count": 129,
     "metadata": {},
     "output_type": "execute_result"
    }
   ],
   "source": [
    "class_values['clf']"
   ]
  },
  {
   "cell_type": "code",
   "execution_count": 121,
   "metadata": {
    "collapsed": false
   },
   "outputs": [],
   "source": [
    "alldata = estim.trials.trials"
   ]
  },
  {
   "cell_type": "code",
   "execution_count": 148,
   "metadata": {
    "collapsed": false,
    "scrolled": true
   },
   "outputs": [
    {
     "data": {
      "text/plain": [
       "dict_values([[], [], [], [], [], [], [], [0], [], [], [], [], [], [], [], [], [], [], [], [], [], [], [3], [], [], [], [], [], [], [0], [], [], [], [], [], [], [], [12.0], [], [], [], [], [], [], [], [0], [], [], [], [], [], [], [], [], [], [], [], [], [], [], [], [], [], [], [], [], [], [], [], [], [], [1], [], [], [], [], [], [], [], [], [], []])"
      ]
     },
     "execution_count": 148,
     "metadata": {},
     "output_type": "execute_result"
    }
   ],
   "source": [
    "alldata[1]['misc']['vals'].values()"
   ]
  },
  {
   "cell_type": "code",
   "execution_count": 149,
   "metadata": {
    "collapsed": false
   },
   "outputs": [
    {
     "data": {
      "text/plain": [
       "datetime.datetime"
      ]
     },
     "execution_count": 149,
     "metadata": {},
     "output_type": "execute_result"
    }
   ],
   "source": [
    "type(alldata[1]['book_time'])"
   ]
  },
  {
   "cell_type": "code",
   "execution_count": 11,
   "metadata": {
    "collapsed": false
   },
   "outputs": [
    {
     "ename": "NameError",
     "evalue": "name 'estim' is not defined",
     "output_type": "error",
     "traceback": [
      "\u001b[0;31m---------------------------------------------------------------------------\u001b[0m",
      "\u001b[0;31mNameError\u001b[0m                                 Traceback (most recent call last)",
      "\u001b[0;32m<ipython-input-11-ae4bdc58218d>\u001b[0m in \u001b[0;36m<module>\u001b[0;34m()\u001b[0m\n\u001b[0;32m----> 1\u001b[0;31m \u001b[0mfonctions_auxiliaires\u001b[0m\u001b[0;34m.\u001b[0m\u001b[0mplot_perf\u001b[0m\u001b[0;34m(\u001b[0m\u001b[0mestim\u001b[0m\u001b[0;34m)\u001b[0m\u001b[0;34m\u001b[0m\u001b[0m\n\u001b[0m",
      "\u001b[0;31mNameError\u001b[0m: name 'estim' is not defined"
     ]
    }
   ],
   "source": [
    "fonctions_auxiliaires.plot_perf(estim)"
   ]
  },
  {
   "cell_type": "code",
   "execution_count": null,
   "metadata": {
    "collapsed": false
   },
   "outputs": [],
   "source": [
    "\n"
   ]
  },
  {
   "cell_type": "code",
   "execution_count": null,
   "metadata": {
    "collapsed": true
   },
   "outputs": [],
   "source": []
  }
 ],
 "metadata": {
  "kernelspec": {
   "display_name": "Python 3",
   "language": "python",
   "name": "python3"
  },
  "language_info": {
   "codemirror_mode": {
    "name": "ipython",
    "version": 3
   },
   "file_extension": ".py",
   "mimetype": "text/x-python",
   "name": "python",
   "nbconvert_exporter": "python",
   "pygments_lexer": "ipython3",
   "version": "3.5.2"
  }
 },
 "nbformat": 4,
 "nbformat_minor": 0
}
