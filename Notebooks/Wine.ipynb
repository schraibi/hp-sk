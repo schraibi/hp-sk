{
 "cells": [
  {
   "cell_type": "code",
   "execution_count": 1,
   "metadata": {
    "collapsed": false
   },
   "outputs": [
    {
     "name": "stdout",
     "output_type": "stream",
     "text": [
      "WARN: OMP_NUM_THREADS=None =>\n",
      "... If you are using openblas if you are using openblas set OMP_NUM_THREADS=1 or risk subprocess calls hanging indefinitely\n"
     ]
    }
   ],
   "source": [
    "from hpsklearn import estimator, components\n",
    "import numpy as np\n",
    "from sklearn.datasets import fetch_mldata\n",
    "from hyperopt import tpe\n",
    "import sklearn.metrics\n",
    "import sklearn.cross_validation\n",
    "import pandas as pd\n",
    "import fonctions_auxiliaires as aux\n",
    "import warnings\n",
    "import matplotlib.pyplot as plt\n",
    "%matplotlib inline"
   ]
  },
  {
   "cell_type": "code",
   "execution_count": 2,
   "metadata": {
    "collapsed": true
   },
   "outputs": [],
   "source": [
    "warnings.filterwarnings('ignore')"
   ]
  },
  {
   "cell_type": "code",
   "execution_count": 3,
   "metadata": {
    "collapsed": false
   },
   "outputs": [],
   "source": [
    "data =pd.read_csv('Datasets/winequality-white.csv', delimiter =';')\n",
    "\n",
    "y = data['quality']\n",
    "X = data\n",
    "del X['quality']"
   ]
  },
  {
   "cell_type": "code",
   "execution_count": 4,
   "metadata": {
    "collapsed": true
   },
   "outputs": [],
   "source": [
    "X_train, X_test, y_train, y_test = sklearn.cross_validation.train_test_split(X, y, random_state=1)"
   ]
  },
  {
   "cell_type": "markdown",
   "metadata": {},
   "source": [
    "### General results"
   ]
  },
  {
   "cell_type": "code",
   "execution_count": 7,
   "metadata": {
    "collapsed": false
   },
   "outputs": [],
   "source": [
    "estim = estimator.hyperopt_estimator(classifier=components.any_classifier('clf'),algo=tpe.suggest, trial_timeout=1800)"
   ]
  },
  {
   "cell_type": "code",
   "execution_count": 8,
   "metadata": {
    "collapsed": false
   },
   "outputs": [],
   "source": [
    "estim.fit(np.ascontiguousarray(X_train), np.ascontiguousarray(y_train))"
   ]
  },
  {
   "cell_type": "code",
   "execution_count": 9,
   "metadata": {
    "collapsed": false
   },
   "outputs": [
    {
     "name": "stdout",
     "output_type": "stream",
     "text": [
      "1.0\n"
     ]
    }
   ],
   "source": [
    "print(estim.score(X_train, y_train))"
   ]
  },
  {
   "cell_type": "code",
   "execution_count": 10,
   "metadata": {
    "collapsed": false
   },
   "outputs": [
    {
     "name": "stdout",
     "output_type": "stream",
     "text": [
      "0.661224489796\n"
     ]
    }
   ],
   "source": [
    "print(estim.score(X_test, y_test))"
   ]
  },
  {
   "cell_type": "code",
   "execution_count": 11,
   "metadata": {
    "collapsed": false
   },
   "outputs": [
    {
     "name": "stdout",
     "output_type": "stream",
     "text": [
      "{'preprocs': (StandardScaler(copy=True, with_mean=False, with_std=False),), 'ex_preprocs': (), 'learner': GradientBoostingClassifier(init=None, learning_rate=0.003197833294479753,\n",
      "              loss='deviance', max_depth=None,\n",
      "              max_features=0.5014479126685896, max_leaf_nodes=None,\n",
      "              min_samples_leaf=1, min_samples_split=2,\n",
      "              min_weight_fraction_leaf=0.0, n_estimators=95,\n",
      "              presort='auto', random_state=1, subsample=0.5907649799677235,\n",
      "              verbose=0, warm_start=False)}\n"
     ]
    }
   ],
   "source": [
    "print(estim.best_model())"
   ]
  },
  {
   "cell_type": "code",
   "execution_count": 12,
   "metadata": {
    "collapsed": false
   },
   "outputs": [],
   "source": [
    "y = estim.predict(X_test)\n",
    "metrics_wine = aux.metrics(estim, X_train, y_train, X_test, y_test, y)"
   ]
  },
  {
   "cell_type": "code",
   "execution_count": 13,
   "metadata": {
    "collapsed": false
   },
   "outputs": [
    {
     "data": {
      "text/plain": [
       "(1.0, 0.66122448979591841, nan, nan, nan)"
      ]
     },
     "execution_count": 13,
     "metadata": {},
     "output_type": "execute_result"
    }
   ],
   "source": [
    "metrics_wine"
   ]
  },
  {
   "cell_type": "code",
   "execution_count": 14,
   "metadata": {
    "collapsed": false
   },
   "outputs": [
    {
     "data": {
      "image/png": "[encoded data removed]",
      "text/plain": [
       "<matplotlib.figure.Figure at 0x7f041012ad68>"
      ]
     },
     "metadata": {},
     "output_type": "display_data"
    }
   ],
   "source": [
    "aux.plot_perf(estim)"
   ]
  },
  {
   "cell_type": "code",
   "execution_count": 16,
   "metadata": {
    "collapsed": false
   },
   "outputs": [
    {
     "data": {
      "text/plain": [
       "{0: 1482227058.0,\n",
       " 1: 1482227265.0,\n",
       " 2: 1482227266.0,\n",
       " 3: 1482227298.0,\n",
       " 4: 1482227298.0,\n",
       " 5: 1482227301.0,\n",
       " 6: 1482227302.0,\n",
       " 7: 1482227310.0,\n",
       " 8: 1482227320.0,\n",
       " 9: 1482227322.0}"
      ]
     },
     "execution_count": 16,
     "metadata": {},
     "output_type": "execute_result"
    }
   ],
   "source": [
    "aux.time_retriever(estim)"
   ]
  },
  {
   "cell_type": "markdown",
   "metadata": {},
   "source": [
    "### Intermediate results"
   ]
  },
  {
   "cell_type": "code",
   "execution_count": 17,
   "metadata": {
    "collapsed": true
   },
   "outputs": [],
   "source": [
    "estim_iter = estimator.hyperopt_estimator(classifier=components.any_classifier('clf'),algo=tpe.suggest, trial_timeout=300)"
   ]
  },
  {
   "cell_type": "code",
   "execution_count": 18,
   "metadata": {
    "collapsed": false
   },
   "outputs": [
    {
     "name": "stderr",
     "output_type": "stream",
     "text": [
      "Trial 1 loss: 0.5401360544217687\n",
      "Trial 2 loss: 0.48027210884353744\n",
      "Trial 3 loss: 0.41088435374149657\n",
      "Trial 4 loss: 0.5387755102040817\n",
      "Trial 5 loss: 0.6489795918367347\n",
      "Trial 6 loss: 0.3564625850340136\n",
      "Trial 7 loss: 0.4693877551020408\n",
      "Trial 8 loss: 0.40816326530612246\n",
      "Trial 9 loss: 0.5428571428571429\n",
      "Trial 10 loss: 0.5115646258503401\n",
      "Test accuracy: 0.66612244898\n",
      "Predict: [5 5 7 ..., 5 6 6]\n",
      "Best Model: {'preprocs': (StandardScaler(copy=True, with_mean=True, with_std=False),), 'ex_preprocs': (), 'learner': RandomForestClassifier(bootstrap=True, class_weight=None, criterion='entropy',\n",
      "            max_depth=None, max_features=0.2587549039324526,\n",
      "            max_leaf_nodes=None, min_samples_leaf=1, min_samples_split=2,\n",
      "            min_weight_fraction_leaf=0.0, n_estimators=26, n_jobs=1,\n",
      "            oob_score=False, random_state=2, verbose=False,\n",
      "            warm_start=False)}\n",
      "====End of demo====\n"
     ]
    }
   ],
   "source": [
    "predictions, accuracies = aux.fit_intermediate(estim_iter, np.ascontiguousarray(X_train), np.ascontiguousarray(y_train),\\\n",
    "                                              X_test, y_test)"
   ]
  },
  {
   "cell_type": "code",
   "execution_count": 19,
   "metadata": {
    "collapsed": true
   },
   "outputs": [],
   "source": [
    "metrics_iter = []\n",
    "for i in range(0, len(predictions)-1):\n",
    "    y = predictions[i]\n",
    "    metrics_iter.append(aux.metrics(estim_iter, X_train, y_train, X_test, y_test, y))\n"
   ]
  },
  {
   "cell_type": "code",
   "execution_count": 20,
   "metadata": {
    "collapsed": false
   },
   "outputs": [
    {
     "data": {
      "text/plain": [
       "[(0.99918322896814593, 0.66612244897959183, nan, nan, nan),\n",
       " (0.99918322896814593, 0.66612244897959183, nan, nan, nan),\n",
       " (0.99918322896814593, 0.66612244897959183, nan, nan, nan),\n",
       " (0.99918322896814593, 0.66612244897959183, nan, nan, nan),\n",
       " (0.99918322896814593, 0.66612244897959183, nan, nan, nan),\n",
       " (0.99918322896814593, 0.66612244897959183, nan, nan, nan),\n",
       " (0.99918322896814593, 0.66612244897959183, nan, nan, nan),\n",
       " (0.99918322896814593, 0.66612244897959183, nan, nan, nan),\n",
       " (0.99918322896814593, 0.66612244897959183, nan, nan, nan)]"
      ]
     },
     "execution_count": 20,
     "metadata": {},
     "output_type": "execute_result"
    }
   ],
   "source": [
    "metrics_iter"
   ]
  },
  {
   "cell_type": "code",
   "execution_count": 21,
   "metadata": {
    "collapsed": false
   },
   "outputs": [
    {
     "data": {
      "text/plain": [
       "[array([5, 6, 6, ..., 6, 6, 6]),\n",
       " array([5, 5, 6, ..., 6, 6, 6]),\n",
       " array([5, 5, 6, ..., 6, 6, 6]),\n",
       " array([5, 5, 6, ..., 6, 6, 6]),\n",
       " array([5, 5, 6, ..., 6, 6, 6]),\n",
       " array([5, 5, 7, ..., 5, 6, 6]),\n",
       " array([5, 5, 7, ..., 5, 6, 6]),\n",
       " array([5, 5, 7, ..., 5, 6, 6]),\n",
       " array([5, 5, 7, ..., 5, 6, 6]),\n",
       " array([5, 5, 7, ..., 5, 6, 6])]"
      ]
     },
     "execution_count": 21,
     "metadata": {},
     "output_type": "execute_result"
    }
   ],
   "source": [
    "predictions"
   ]
  },
  {
   "cell_type": "code",
   "execution_count": 22,
   "metadata": {
    "collapsed": false
   },
   "outputs": [
    {
     "data": {
      "text/plain": [
       "[0.45877551020408164,\n",
       " 0.48571428571428571,\n",
       " 0.52816326530612245,\n",
       " 0.52816326530612245,\n",
       " 0.52816326530612245,\n",
       " 0.66612244897959183,\n",
       " 0.66612244897959183,\n",
       " 0.66612244897959183,\n",
       " 0.66612244897959183,\n",
       " 0.66612244897959183]"
      ]
     },
     "execution_count": 22,
     "metadata": {},
     "output_type": "execute_result"
    }
   ],
   "source": [
    "accuracies"
   ]
  },
  {
   "cell_type": "code",
   "execution_count": 23,
   "metadata": {
    "collapsed": false,
    "scrolled": true
   },
   "outputs": [
    {
     "data": {
      "image/png": "[encoded data removed]",
      "text/plain": [
       "<matplotlib.figure.Figure at 0x7f040ff032b0>"
      ]
     },
     "metadata": {},
     "output_type": "display_data"
    }
   ],
   "source": [
    "plt.plot(accuracies)\n",
    "plt.show()"
   ]
  },
  {
   "cell_type": "code",
   "execution_count": 24,
   "metadata": {
    "collapsed": false
   },
   "outputs": [
    {
     "data": {
      "image/png": "[encoded data removed]",
      "text/plain": [
       "<matplotlib.figure.Figure at 0x7f04101532e8>"
      ]
     },
     "metadata": {},
     "output_type": "display_data"
    }
   ],
   "source": [
    "aux.plot_perf(estim_iter)"
   ]
  },
  {
   "cell_type": "code",
   "execution_count": null,
   "metadata": {
    "collapsed": true
   },
   "outputs": [],
   "source": []
  },
  {
   "cell_type": "code",
   "execution_count": null,
   "metadata": {
    "collapsed": true
   },
   "outputs": [],
   "source": []
  }
 ],
 "metadata": {
  "kernelspec": {
   "display_name": "Python 3",
   "language": "python",
   "name": "python3"
  },
  "language_info": {
   "codemirror_mode": {
    "name": "ipython",
    "version": 3
   },
   "file_extension": ".py",
   "mimetype": "text/x-python",
   "name": "python",
   "nbconvert_exporter": "python",
   "pygments_lexer": "ipython3",
   "version": "3.5.2"
  }
 },
 "nbformat": 4,
 "nbformat_minor": 1
}
