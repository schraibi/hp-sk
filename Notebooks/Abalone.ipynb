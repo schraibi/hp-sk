{
 "cells": [
  {
   "cell_type": "code",
   "execution_count": 83,
   "metadata": {
    "collapsed": false
   },
   "outputs": [],
   "source": [
    "import pandas as pd \n",
    "import numpy as np\n",
    "from sklearn.preprocessing import LabelEncoder\n",
    "from hyperopt import tpe\n",
    "from hpsklearn import estimator, components\n",
    "import sklearn.metrics\n",
    "import sklearn.cross_validation as scv\n",
    "from sklearn.datasets import fetch_mldata\n",
    "import fonctions_auxiliaires as aux\n",
    "import matplotlib.pyplot as plt\n",
    "%matplotlib inline\n",
    "import warnings"
   ]
  },
  {
   "cell_type": "code",
   "execution_count": 2,
   "metadata": {
    "collapsed": true
   },
   "outputs": [],
   "source": [
    "warnings.filterwarnings('ignore')"
   ]
  },
  {
   "cell_type": "code",
   "execution_count": 3,
   "metadata": {
    "collapsed": false,
    "scrolled": true
   },
   "outputs": [],
   "source": [
    "abalone = fetch_mldata('abalone')\n",
    "X = abalone.data\n",
    "y = abalone.target\n"
   ]
  },
  {
   "cell_type": "code",
   "execution_count": 4,
   "metadata": {
    "collapsed": false
   },
   "outputs": [],
   "source": [
    "le = LabelEncoder()\n",
    "X[0] = le.fit_transform(X[0])"
   ]
  },
  {
   "cell_type": "code",
   "execution_count": 5,
   "metadata": {
    "collapsed": true
   },
   "outputs": [],
   "source": [
    "X_train, X_test, y_train, y_test = scv.train_test_split(X, y, random_state=1)"
   ]
  },
  {
   "cell_type": "code",
   "execution_count": 6,
   "metadata": {
    "collapsed": true
   },
   "outputs": [],
   "source": [
    "X_train = np.ascontiguousarray(X_train)"
   ]
  },
  {
   "cell_type": "markdown",
   "metadata": {},
   "source": [
    "### Main results"
   ]
  },
  {
   "cell_type": "code",
   "execution_count": 31,
   "metadata": {
    "collapsed": false
   },
   "outputs": [],
   "source": [
    "estim = estimator.hyperopt_estimator(classifier=components.any_classifier('clf'),algo=tpe.suggest, trial_timeout=120)"
   ]
  },
  {
   "cell_type": "code",
   "execution_count": 32,
   "metadata": {
    "collapsed": false
   },
   "outputs": [],
   "source": [
    "estim.fit(np.ascontiguousarray(X_train), y_train)"
   ]
  },
  {
   "cell_type": "code",
   "execution_count": 33,
   "metadata": {
    "collapsed": false
   },
   "outputs": [],
   "source": [
    "y = estim.predict(X_test)\n",
    "metrics_aba = aux.metrics(estim, X_train, y_train, X_test, y_test, y)"
   ]
  },
  {
   "cell_type": "code",
   "execution_count": 34,
   "metadata": {
    "collapsed": false
   },
   "outputs": [
    {
     "data": {
      "text/plain": [
       "(0.50159642401021709, 0.11866028708133972, nan, nan, nan)"
      ]
     },
     "execution_count": 34,
     "metadata": {},
     "output_type": "execute_result"
    }
   ],
   "source": [
    "metrics_aba"
   ]
  },
  {
   "cell_type": "code",
   "execution_count": 35,
   "metadata": {
    "collapsed": false
   },
   "outputs": [
    {
     "data": {
      "text/plain": [
       "{0: 1482222236.0,\n",
       " 1: 1482222237.0,\n",
       " 2: 1482222239.0,\n",
       " 3: 1482222239.0,\n",
       " 4: 1482222245.0,\n",
       " 5: 1482222251.0,\n",
       " 6: 1482222258.0,\n",
       " 7: 1482222379.0,\n",
       " 8: 1482222382.0,\n",
       " 9: 1482222423.0}"
      ]
     },
     "execution_count": 35,
     "metadata": {},
     "output_type": "execute_result"
    }
   ],
   "source": [
    "#Timestamp\n",
    "aux.time_retriever(estim)"
   ]
  },
  {
   "cell_type": "code",
   "execution_count": 36,
   "metadata": {
    "collapsed": false
   },
   "outputs": [
    {
     "name": "stdout",
     "output_type": "stream",
     "text": [
      "{'preprocs': (MinMaxScaler(copy=True, feature_range=(-1.0, 1.0)),), 'learner': RandomForestClassifier(bootstrap=False, class_weight=None, criterion='gini',\n",
      "            max_depth=None, max_features=0.02846906608099642,\n",
      "            max_leaf_nodes=None, min_samples_leaf=14, min_samples_split=2,\n",
      "            min_weight_fraction_leaf=0.0, n_estimators=2195, n_jobs=1,\n",
      "            oob_score=False, random_state=2, verbose=False,\n",
      "            warm_start=False), 'ex_preprocs': ()}\n"
     ]
    }
   ],
   "source": [
    "print(estim.best_model())"
   ]
  },
  {
   "cell_type": "code",
   "execution_count": 37,
   "metadata": {
    "collapsed": false,
    "scrolled": true
   },
   "outputs": [
    {
     "data": {
      "text/plain": [
       "{'clf': [1, 0, 1, 0, 3, 3, 2, 3, 2, 1],\n",
       " 'clf.ada_boost.ada_boost_algo': [],\n",
       " 'clf.ada_boost.ada_boost_learning_rate': [],\n",
       " 'clf.ada_boost.ada_boost_n_estimators': [],\n",
       " 'clf.ada_boost.ada_boost_rstate': [],\n",
       " 'clf.extra_trees.etc_bootstrap': [0, 1, 1],\n",
       " 'clf.extra_trees.etc_criterion': [0, 1, 0],\n",
       " 'clf.extra_trees.etc_max_depth': [0, 2, 0],\n",
       " 'clf.extra_trees.etc_max_features': [3, 3, 3],\n",
       " 'clf.extra_trees.etc_max_features.frac': [0.23601647182811603,\n",
       "  0.3186978789394399,\n",
       "  0.6446829367588663],\n",
       " 'clf.extra_trees.etc_min_samples_leaf': [1, 0, 1],\n",
       " 'clf.extra_trees.etc_min_samples_leaf.gt1': [2.0, 2.0],\n",
       " 'clf.extra_trees.etc_n_estimators': [477.0, 848.0, 112.0],\n",
       " 'clf.extra_trees.etc_rstate': [4, 1, 1],\n",
       " 'clf.grad_boosting.gradient_boosting_learning_rate': [],\n",
       " 'clf.grad_boosting.gradient_boosting_max_depth': [],\n",
       " 'clf.grad_boosting.gradient_boosting_max_features': [],\n",
       " 'clf.grad_boosting.gradient_boosting_max_features.frac': [],\n",
       " 'clf.grad_boosting.gradient_boosting_min_samples_leaf': [],\n",
       " 'clf.grad_boosting.gradient_boosting_min_samples_leaf.gt1': [],\n",
       " 'clf.grad_boosting.gradient_boosting_n_estimators': [],\n",
       " 'clf.grad_boosting.gradient_boosting_rstate': [],\n",
       " 'clf.grad_boosting.gradient_boosting_subsample': [],\n",
       " 'clf.grad_boosting.gradient_boosting_subsample.sgb': [],\n",
       " 'clf.knn.knc_metric_p': [3, 0, 0],\n",
       " 'clf.knn.knc_metric_p.p': [5.0],\n",
       " 'clf.knn.knc_neighbors': [5.0, 27.0, 15.0],\n",
       " 'clf.knn.knc_weights': [1, 1, 0],\n",
       " 'clf.random_forest.rfc_bootstrap': [0, 1],\n",
       " 'clf.random_forest.rfc_criterion': [1, 0],\n",
       " 'clf.random_forest.rfc_max_depth': [3, 0],\n",
       " 'clf.random_forest.rfc_max_features': [0, 3],\n",
       " 'clf.random_forest.rfc_max_features.frac': [0.02846906608099642],\n",
       " 'clf.random_forest.rfc_min_samples_leaf': [1, 1],\n",
       " 'clf.random_forest.rfc_min_samples_leaf.gt1': [3.0, 14.0],\n",
       " 'clf.random_forest.rfc_n_estimators': [809.0, 2195.0],\n",
       " 'clf.random_forest.rfc_rstate': [0, 2],\n",
       " 'clf.sgd.sgdc_alpha': [],\n",
       " 'clf.sgd.sgdc_clsweight': [],\n",
       " 'clf.sgd.sgdc_eta0': [],\n",
       " 'clf.sgd.sgdc_l1ratio': [],\n",
       " 'clf.sgd.sgdc_learning_rate': [],\n",
       " 'clf.sgd.sgdc_loss': [],\n",
       " 'clf.sgd.sgdc_penalty': [],\n",
       " 'clf.sgd.sgdc_power_t': [],\n",
       " 'clf.sgd.sgdc_rstate': [],\n",
       " 'clf.svc.kernel': [0, 1],\n",
       " 'clf.svc.linear_C': [0.00019665581023866778],\n",
       " 'clf.svc.linear_maxiter': [150766368.0],\n",
       " 'clf.svc.linear_rstate': [4],\n",
       " 'clf.svc.linear_shrinking': [1],\n",
       " 'clf.svc.linear_tol': [0.00032291861359400834],\n",
       " 'clf.svc.poly_C': [],\n",
       " 'clf.svc.poly_coef0': [],\n",
       " 'clf.svc.poly_coef0val': [],\n",
       " 'clf.svc.poly_degree': [],\n",
       " 'clf.svc.poly_gamma': [],\n",
       " 'clf.svc.poly_maxiter': [],\n",
       " 'clf.svc.poly_rstate': [],\n",
       " 'clf.svc.poly_shrinking': [],\n",
       " 'clf.svc.poly_tol': [],\n",
       " 'clf.svc.rbf_C': [0.0025846193775581477],\n",
       " 'clf.svc.rbf_gamma': [0.0010686875781413983],\n",
       " 'clf.svc.rbf_maxiter': [67746258.0],\n",
       " 'clf.svc.rbf_rstate': [2],\n",
       " 'clf.svc.rbf_shrinking': [0],\n",
       " 'clf.svc.rbf_tol': [2.792325102590894e-05],\n",
       " 'clf.svc.sigmoid_C': [],\n",
       " 'clf.svc.sigmoid_coef0': [],\n",
       " 'clf.svc.sigmoid_coef0val': [],\n",
       " 'clf.svc.sigmoid_gamma': [],\n",
       " 'clf.svc.sigmoid_maxiter': [],\n",
       " 'clf.svc.sigmoid_rstate': [],\n",
       " 'clf.svc.sigmoid_shrinking': [],\n",
       " 'clf.svc.sigmoid_tol': [],\n",
       " 'preprocessing': [2, 4, 1, 4, 0, 0, 3, 3, 2, 3],\n",
       " 'preprocessing.min_max_scaler.feature_min': [1, 0],\n",
       " 'preprocessing.normalizer.norm': [1, 0, 1],\n",
       " 'preprocessing.pca.n_components': [1.0, 1.0],\n",
       " 'preprocessing.pca.whiten': [0, 1],\n",
       " 'preprocessing.standard_scaler.with_mean': [0],\n",
       " 'preprocessing.standard_scaler.with_std': [0]}"
      ]
     },
     "execution_count": 37,
     "metadata": {},
     "output_type": "execute_result"
    }
   ],
   "source": [
    "estim.trials.vals"
   ]
  },
  {
   "cell_type": "code",
   "execution_count": 38,
   "metadata": {
    "collapsed": false,
    "scrolled": true
   },
   "outputs": [
    {
     "data": {
      "text/plain": [
       "{'clf': [1],\n",
       " 'clf.ada_boost.ada_boost_algo': [],\n",
       " 'clf.ada_boost.ada_boost_learning_rate': [],\n",
       " 'clf.ada_boost.ada_boost_n_estimators': [],\n",
       " 'clf.ada_boost.ada_boost_rstate': [],\n",
       " 'clf.extra_trees.etc_bootstrap': [],\n",
       " 'clf.extra_trees.etc_criterion': [],\n",
       " 'clf.extra_trees.etc_max_depth': [],\n",
       " 'clf.extra_trees.etc_max_features': [],\n",
       " 'clf.extra_trees.etc_max_features.frac': [],\n",
       " 'clf.extra_trees.etc_min_samples_leaf': [],\n",
       " 'clf.extra_trees.etc_min_samples_leaf.gt1': [],\n",
       " 'clf.extra_trees.etc_n_estimators': [],\n",
       " 'clf.extra_trees.etc_rstate': [],\n",
       " 'clf.grad_boosting.gradient_boosting_learning_rate': [],\n",
       " 'clf.grad_boosting.gradient_boosting_max_depth': [],\n",
       " 'clf.grad_boosting.gradient_boosting_max_features': [],\n",
       " 'clf.grad_boosting.gradient_boosting_max_features.frac': [],\n",
       " 'clf.grad_boosting.gradient_boosting_min_samples_leaf': [],\n",
       " 'clf.grad_boosting.gradient_boosting_min_samples_leaf.gt1': [],\n",
       " 'clf.grad_boosting.gradient_boosting_n_estimators': [],\n",
       " 'clf.grad_boosting.gradient_boosting_rstate': [],\n",
       " 'clf.grad_boosting.gradient_boosting_subsample': [],\n",
       " 'clf.grad_boosting.gradient_boosting_subsample.sgb': [],\n",
       " 'clf.knn.knc_metric_p': [0],\n",
       " 'clf.knn.knc_metric_p.p': [],\n",
       " 'clf.knn.knc_neighbors': [15.0],\n",
       " 'clf.knn.knc_weights': [0],\n",
       " 'clf.random_forest.rfc_bootstrap': [],\n",
       " 'clf.random_forest.rfc_criterion': [],\n",
       " 'clf.random_forest.rfc_max_depth': [],\n",
       " 'clf.random_forest.rfc_max_features': [],\n",
       " 'clf.random_forest.rfc_max_features.frac': [],\n",
       " 'clf.random_forest.rfc_min_samples_leaf': [],\n",
       " 'clf.random_forest.rfc_min_samples_leaf.gt1': [],\n",
       " 'clf.random_forest.rfc_n_estimators': [],\n",
       " 'clf.random_forest.rfc_rstate': [],\n",
       " 'clf.sgd.sgdc_alpha': [],\n",
       " 'clf.sgd.sgdc_clsweight': [],\n",
       " 'clf.sgd.sgdc_eta0': [],\n",
       " 'clf.sgd.sgdc_l1ratio': [],\n",
       " 'clf.sgd.sgdc_learning_rate': [],\n",
       " 'clf.sgd.sgdc_loss': [],\n",
       " 'clf.sgd.sgdc_penalty': [],\n",
       " 'clf.sgd.sgdc_power_t': [],\n",
       " 'clf.sgd.sgdc_rstate': [],\n",
       " 'clf.svc.kernel': [],\n",
       " 'clf.svc.linear_C': [],\n",
       " 'clf.svc.linear_maxiter': [],\n",
       " 'clf.svc.linear_rstate': [],\n",
       " 'clf.svc.linear_shrinking': [],\n",
       " 'clf.svc.linear_tol': [],\n",
       " 'clf.svc.poly_C': [],\n",
       " 'clf.svc.poly_coef0': [],\n",
       " 'clf.svc.poly_coef0val': [],\n",
       " 'clf.svc.poly_degree': [],\n",
       " 'clf.svc.poly_gamma': [],\n",
       " 'clf.svc.poly_maxiter': [],\n",
       " 'clf.svc.poly_rstate': [],\n",
       " 'clf.svc.poly_shrinking': [],\n",
       " 'clf.svc.poly_tol': [],\n",
       " 'clf.svc.rbf_C': [],\n",
       " 'clf.svc.rbf_gamma': [],\n",
       " 'clf.svc.rbf_maxiter': [],\n",
       " 'clf.svc.rbf_rstate': [],\n",
       " 'clf.svc.rbf_shrinking': [],\n",
       " 'clf.svc.rbf_tol': [],\n",
       " 'clf.svc.sigmoid_C': [],\n",
       " 'clf.svc.sigmoid_coef0': [],\n",
       " 'clf.svc.sigmoid_coef0val': [],\n",
       " 'clf.svc.sigmoid_gamma': [],\n",
       " 'clf.svc.sigmoid_maxiter': [],\n",
       " 'clf.svc.sigmoid_rstate': [],\n",
       " 'clf.svc.sigmoid_shrinking': [],\n",
       " 'clf.svc.sigmoid_tol': [],\n",
       " 'preprocessing': [3],\n",
       " 'preprocessing.min_max_scaler.feature_min': [],\n",
       " 'preprocessing.normalizer.norm': [1],\n",
       " 'preprocessing.pca.n_components': [],\n",
       " 'preprocessing.pca.whiten': [],\n",
       " 'preprocessing.standard_scaler.with_mean': [],\n",
       " 'preprocessing.standard_scaler.with_std': []}"
      ]
     },
     "execution_count": 38,
     "metadata": {},
     "output_type": "execute_result"
    }
   ],
   "source": [
    "classifiers = estim.trials.trials[9]['misc']['vals']\n",
    "classifiers"
   ]
  },
  {
   "cell_type": "code",
   "execution_count": 39,
   "metadata": {
    "collapsed": false,
    "scrolled": true
   },
   "outputs": [
    {
     "ename": "TypeError",
     "evalue": "unorderable types: float() <= NoneType()",
     "output_type": "error",
     "traceback": [
      "\u001b[0;31m---------------------------------------------------------------------------\u001b[0m",
      "\u001b[0;31mAttributeError\u001b[0m                            Traceback (most recent call last)",
      "\u001b[0;32m/home/selma/.local/lib/python3.5/site-packages/numpy/core/fromnumeric.py\u001b[0m in \u001b[0;36mamin\u001b[0;34m(a, axis, out, keepdims)\u001b[0m\n\u001b[1;32m   2389\u001b[0m         \u001b[0;32mtry\u001b[0m\u001b[0;34m:\u001b[0m\u001b[0;34m\u001b[0m\u001b[0m\n\u001b[0;32m-> 2390\u001b[0;31m             \u001b[0mamin\u001b[0m \u001b[0;34m=\u001b[0m \u001b[0ma\u001b[0m\u001b[0;34m.\u001b[0m\u001b[0mmin\u001b[0m\u001b[0;34m\u001b[0m\u001b[0m\n\u001b[0m\u001b[1;32m   2391\u001b[0m         \u001b[0;32mexcept\u001b[0m \u001b[0mAttributeError\u001b[0m\u001b[0;34m:\u001b[0m\u001b[0;34m\u001b[0m\u001b[0m\n",
      "\u001b[0;31mAttributeError\u001b[0m: 'list' object has no attribute 'min'",
      "\nDuring handling of the above exception, another exception occurred:\n",
      "\u001b[0;31mTypeError\u001b[0m                                 Traceback (most recent call last)",
      "\u001b[0;32m<ipython-input-39-529b96a5b7dd>\u001b[0m in \u001b[0;36m<module>\u001b[0;34m()\u001b[0m\n\u001b[0;32m----> 1\u001b[0;31m \u001b[0maux\u001b[0m\u001b[0;34m.\u001b[0m\u001b[0mplot_perf\u001b[0m\u001b[0;34m(\u001b[0m\u001b[0mestim\u001b[0m\u001b[0;34m)\u001b[0m\u001b[0;34m\u001b[0m\u001b[0m\n\u001b[0m",
      "\u001b[0;32m/home/selma/hp-sk/Notebooks/fonctions_auxiliaires.py\u001b[0m in \u001b[0;36mplot_perf\u001b[0;34m(estimator)\u001b[0m\n\u001b[1;32m     69\u001b[0m     \u001b[0mdemo_support\u001b[0m\u001b[0;34m.\u001b[0m\u001b[0mscatter_error_vs_time\u001b[0m\u001b[0;34m(\u001b[0m\u001b[0mestimator\u001b[0m\u001b[0;34m,\u001b[0m \u001b[0max\u001b[0m\u001b[0;34m)\u001b[0m\u001b[0;34m\u001b[0m\u001b[0m\n\u001b[1;32m     70\u001b[0m     \u001b[0max2\u001b[0m \u001b[0;34m=\u001b[0m \u001b[0mfig\u001b[0m\u001b[0;34m.\u001b[0m\u001b[0madd_subplot\u001b[0m\u001b[0;34m(\u001b[0m\u001b[0;36m111\u001b[0m\u001b[0;34m)\u001b[0m\u001b[0;34m\u001b[0m\u001b[0m\n\u001b[0;32m---> 71\u001b[0;31m     \u001b[0mdemo_support\u001b[0m\u001b[0;34m.\u001b[0m\u001b[0mplot_minvalid_vs_time\u001b[0m\u001b[0;34m(\u001b[0m\u001b[0mestimator\u001b[0m\u001b[0;34m,\u001b[0m \u001b[0max2\u001b[0m\u001b[0;34m)\u001b[0m\u001b[0;34m\u001b[0m\u001b[0m\n\u001b[0m\u001b[1;32m     72\u001b[0m \u001b[0;34m\u001b[0m\u001b[0m\n",
      "\u001b[0;32m/home/selma/hyperopt-sklearn/hpsklearn/demo_support.py\u001b[0m in \u001b[0;36mplot_minvalid_vs_time\u001b[0;34m(estimator, ax, ylim)\u001b[0m\n\u001b[1;32m     15\u001b[0m     \u001b[0mlosses\u001b[0m \u001b[0;34m=\u001b[0m \u001b[0mestimator\u001b[0m\u001b[0;34m.\u001b[0m\u001b[0mtrials\u001b[0m\u001b[0;34m.\u001b[0m\u001b[0mlosses\u001b[0m\u001b[0;34m(\u001b[0m\u001b[0;34m)\u001b[0m\u001b[0;34m\u001b[0m\u001b[0m\n\u001b[1;32m     16\u001b[0m     \u001b[0mts\u001b[0m \u001b[0;34m=\u001b[0m \u001b[0mlist\u001b[0m\u001b[0;34m(\u001b[0m\u001b[0mrange\u001b[0m\u001b[0;34m(\u001b[0m\u001b[0;36m1\u001b[0m\u001b[0;34m,\u001b[0m \u001b[0mlen\u001b[0m\u001b[0;34m(\u001b[0m\u001b[0mlosses\u001b[0m\u001b[0;34m)\u001b[0m\u001b[0;34m)\u001b[0m\u001b[0;34m)\u001b[0m\u001b[0;34m\u001b[0m\u001b[0m\n\u001b[0;32m---> 17\u001b[0;31m     \u001b[0mmins\u001b[0m \u001b[0;34m=\u001b[0m \u001b[0;34m[\u001b[0m\u001b[0mnp\u001b[0m\u001b[0;34m.\u001b[0m\u001b[0mmin\u001b[0m\u001b[0;34m(\u001b[0m\u001b[0mlosses\u001b[0m\u001b[0;34m[\u001b[0m\u001b[0;34m:\u001b[0m\u001b[0mii\u001b[0m\u001b[0;34m]\u001b[0m\u001b[0;34m)\u001b[0m \u001b[0;32mfor\u001b[0m \u001b[0mii\u001b[0m \u001b[0;32min\u001b[0m \u001b[0mts\u001b[0m\u001b[0;34m]\u001b[0m\u001b[0;34m\u001b[0m\u001b[0m\n\u001b[0m\u001b[1;32m     18\u001b[0m     \u001b[0max\u001b[0m\u001b[0;34m.\u001b[0m\u001b[0mset_ylabel\u001b[0m\u001b[0;34m(\u001b[0m\u001b[0;34m'min(Validation error rate to-date)'\u001b[0m\u001b[0;34m)\u001b[0m\u001b[0;34m\u001b[0m\u001b[0m\n\u001b[1;32m     19\u001b[0m     \u001b[0max\u001b[0m\u001b[0;34m.\u001b[0m\u001b[0mset_xlabel\u001b[0m\u001b[0;34m(\u001b[0m\u001b[0;34m'Iteration'\u001b[0m\u001b[0;34m)\u001b[0m\u001b[0;34m\u001b[0m\u001b[0m\n",
      "\u001b[0;32m/home/selma/hyperopt-sklearn/hpsklearn/demo_support.py\u001b[0m in \u001b[0;36m<listcomp>\u001b[0;34m(.0)\u001b[0m\n\u001b[1;32m     15\u001b[0m     \u001b[0mlosses\u001b[0m \u001b[0;34m=\u001b[0m \u001b[0mestimator\u001b[0m\u001b[0;34m.\u001b[0m\u001b[0mtrials\u001b[0m\u001b[0;34m.\u001b[0m\u001b[0mlosses\u001b[0m\u001b[0;34m(\u001b[0m\u001b[0;34m)\u001b[0m\u001b[0;34m\u001b[0m\u001b[0m\n\u001b[1;32m     16\u001b[0m     \u001b[0mts\u001b[0m \u001b[0;34m=\u001b[0m \u001b[0mlist\u001b[0m\u001b[0;34m(\u001b[0m\u001b[0mrange\u001b[0m\u001b[0;34m(\u001b[0m\u001b[0;36m1\u001b[0m\u001b[0;34m,\u001b[0m \u001b[0mlen\u001b[0m\u001b[0;34m(\u001b[0m\u001b[0mlosses\u001b[0m\u001b[0;34m)\u001b[0m\u001b[0;34m)\u001b[0m\u001b[0;34m)\u001b[0m\u001b[0;34m\u001b[0m\u001b[0m\n\u001b[0;32m---> 17\u001b[0;31m     \u001b[0mmins\u001b[0m \u001b[0;34m=\u001b[0m \u001b[0;34m[\u001b[0m\u001b[0mnp\u001b[0m\u001b[0;34m.\u001b[0m\u001b[0mmin\u001b[0m\u001b[0;34m(\u001b[0m\u001b[0mlosses\u001b[0m\u001b[0;34m[\u001b[0m\u001b[0;34m:\u001b[0m\u001b[0mii\u001b[0m\u001b[0;34m]\u001b[0m\u001b[0;34m)\u001b[0m \u001b[0;32mfor\u001b[0m \u001b[0mii\u001b[0m \u001b[0;32min\u001b[0m \u001b[0mts\u001b[0m\u001b[0;34m]\u001b[0m\u001b[0;34m\u001b[0m\u001b[0m\n\u001b[0m\u001b[1;32m     18\u001b[0m     \u001b[0max\u001b[0m\u001b[0;34m.\u001b[0m\u001b[0mset_ylabel\u001b[0m\u001b[0;34m(\u001b[0m\u001b[0;34m'min(Validation error rate to-date)'\u001b[0m\u001b[0;34m)\u001b[0m\u001b[0;34m\u001b[0m\u001b[0m\n\u001b[1;32m     19\u001b[0m     \u001b[0max\u001b[0m\u001b[0;34m.\u001b[0m\u001b[0mset_xlabel\u001b[0m\u001b[0;34m(\u001b[0m\u001b[0;34m'Iteration'\u001b[0m\u001b[0;34m)\u001b[0m\u001b[0;34m\u001b[0m\u001b[0m\n",
      "\u001b[0;32m/home/selma/.local/lib/python3.5/site-packages/numpy/core/fromnumeric.py\u001b[0m in \u001b[0;36mamin\u001b[0;34m(a, axis, out, keepdims)\u001b[0m\n\u001b[1;32m   2391\u001b[0m         \u001b[0;32mexcept\u001b[0m \u001b[0mAttributeError\u001b[0m\u001b[0;34m:\u001b[0m\u001b[0;34m\u001b[0m\u001b[0m\n\u001b[1;32m   2392\u001b[0m             return _methods._amin(a, axis=axis,\n\u001b[0;32m-> 2393\u001b[0;31m                                 out=out, **kwargs)\n\u001b[0m\u001b[1;32m   2394\u001b[0m         \u001b[0;32mreturn\u001b[0m \u001b[0mamin\u001b[0m\u001b[0;34m(\u001b[0m\u001b[0maxis\u001b[0m\u001b[0;34m=\u001b[0m\u001b[0maxis\u001b[0m\u001b[0;34m,\u001b[0m \u001b[0mout\u001b[0m\u001b[0;34m=\u001b[0m\u001b[0mout\u001b[0m\u001b[0;34m,\u001b[0m \u001b[0;34m**\u001b[0m\u001b[0mkwargs\u001b[0m\u001b[0;34m)\u001b[0m\u001b[0;34m\u001b[0m\u001b[0m\n\u001b[1;32m   2395\u001b[0m     \u001b[0;32melse\u001b[0m\u001b[0;34m:\u001b[0m\u001b[0;34m\u001b[0m\u001b[0m\n",
      "\u001b[0;32m/home/selma/.local/lib/python3.5/site-packages/numpy/core/_methods.py\u001b[0m in \u001b[0;36m_amin\u001b[0;34m(a, axis, out, keepdims)\u001b[0m\n\u001b[1;32m     27\u001b[0m \u001b[0;34m\u001b[0m\u001b[0m\n\u001b[1;32m     28\u001b[0m \u001b[0;32mdef\u001b[0m \u001b[0m_amin\u001b[0m\u001b[0;34m(\u001b[0m\u001b[0ma\u001b[0m\u001b[0;34m,\u001b[0m \u001b[0maxis\u001b[0m\u001b[0;34m=\u001b[0m\u001b[0;32mNone\u001b[0m\u001b[0;34m,\u001b[0m \u001b[0mout\u001b[0m\u001b[0;34m=\u001b[0m\u001b[0;32mNone\u001b[0m\u001b[0;34m,\u001b[0m \u001b[0mkeepdims\u001b[0m\u001b[0;34m=\u001b[0m\u001b[0;32mFalse\u001b[0m\u001b[0;34m)\u001b[0m\u001b[0;34m:\u001b[0m\u001b[0;34m\u001b[0m\u001b[0m\n\u001b[0;32m---> 29\u001b[0;31m     \u001b[0;32mreturn\u001b[0m \u001b[0mumr_minimum\u001b[0m\u001b[0;34m(\u001b[0m\u001b[0ma\u001b[0m\u001b[0;34m,\u001b[0m \u001b[0maxis\u001b[0m\u001b[0;34m,\u001b[0m \u001b[0;32mNone\u001b[0m\u001b[0;34m,\u001b[0m \u001b[0mout\u001b[0m\u001b[0;34m,\u001b[0m \u001b[0mkeepdims\u001b[0m\u001b[0;34m)\u001b[0m\u001b[0;34m\u001b[0m\u001b[0m\n\u001b[0m\u001b[1;32m     30\u001b[0m \u001b[0;34m\u001b[0m\u001b[0m\n\u001b[1;32m     31\u001b[0m \u001b[0;32mdef\u001b[0m \u001b[0m_sum\u001b[0m\u001b[0;34m(\u001b[0m\u001b[0ma\u001b[0m\u001b[0;34m,\u001b[0m \u001b[0maxis\u001b[0m\u001b[0;34m=\u001b[0m\u001b[0;32mNone\u001b[0m\u001b[0;34m,\u001b[0m \u001b[0mdtype\u001b[0m\u001b[0;34m=\u001b[0m\u001b[0;32mNone\u001b[0m\u001b[0;34m,\u001b[0m \u001b[0mout\u001b[0m\u001b[0;34m=\u001b[0m\u001b[0;32mNone\u001b[0m\u001b[0;34m,\u001b[0m \u001b[0mkeepdims\u001b[0m\u001b[0;34m=\u001b[0m\u001b[0;32mFalse\u001b[0m\u001b[0;34m)\u001b[0m\u001b[0;34m:\u001b[0m\u001b[0;34m\u001b[0m\u001b[0m\n",
      "\u001b[0;31mTypeError\u001b[0m: unorderable types: float() <= NoneType()"
     ]
    },
    {
     "data": {
      "image/png": "[encoded data removed]",
      "text/plain": [
       "<matplotlib.figure.Figure at 0x7f4942b04f28>"
      ]
     },
     "metadata": {},
     "output_type": "display_data"
    }
   ],
   "source": [
    "aux.plot_perft_perf(estim)"
   ]
  },
  {
   "cell_type": "markdown",
   "metadata": {
    "collapsed": true
   },
   "source": [
    "### Intermediate results"
   ]
  },
  {
   "cell_type": "code",
   "execution_count": 7,
   "metadata": {
    "collapsed": true
   },
   "outputs": [],
   "source": [
    "estim_iter = estimator.hyperopt_estimator(classifier=components.any_classifier('clf'),algo=tpe.suggest, trial_timeout=120)"
   ]
  },
  {
   "cell_type": "code",
   "execution_count": 41,
   "metadata": {
    "collapsed": false
   },
   "outputs": [
    {
     "name": "stderr",
     "output_type": "stream",
     "text": [
      "Trial 1 loss: None\n",
      "Trial 2 loss: 0.8022328548644339\n",
      "Trial 3 loss: 0.7862838915470495\n",
      "Trial 4 loss: 0.9505582137161085\n",
      "Trial 5 loss: 0.7559808612440191\n",
      "Trial 6 loss: 0.7352472089314195\n",
      "Trial 7 loss: 0.7320574162679425\n",
      "Trial 8 loss: 0.7910685805422648\n",
      "Trial 9 loss: 0.736842105263158\n",
      "Trial 10 loss: 0.799043062200957\n",
      "Test accuracy: 0.24019138756\n",
      "Predict: [ 8  9  9 ..., 10  5  9]\n",
      "Best Model: {'preprocs': (StandardScaler(copy=True, with_mean=True, with_std=False),), 'learner': RandomForestClassifier(bootstrap=True, class_weight=None, criterion='gini',\n",
      "            max_depth=None, max_features=0.7620258540405801,\n",
      "            max_leaf_nodes=None, min_samples_leaf=49, min_samples_split=2,\n",
      "            min_weight_fraction_leaf=0.0, n_estimators=31, n_jobs=1,\n",
      "            oob_score=False, random_state=4, verbose=False,\n",
      "            warm_start=False), 'ex_preprocs': ()}\n",
      "====End of demo====\n"
     ]
    }
   ],
   "source": [
    "predictions, accuracies = aux.fit_intermediate(estim_iter, X_train, y_train, X_test, y_test)"
   ]
  },
  {
   "cell_type": "code",
   "execution_count": 86,
   "metadata": {
    "collapsed": false
   },
   "outputs": [],
   "source": [
    "metrics_iter = []\n",
    "for i in range(0, len(predictions)-1):\n",
    "    y = predictions[i]\n",
    "    metrics_iter.append(aux.metrics(estim_iter, X_train, y_train, X_test, y_test, y))\n"
   ]
  },
  {
   "cell_type": "code",
   "execution_count": 87,
   "metadata": {
    "collapsed": false
   },
   "outputs": [
    {
     "data": {
      "text/plain": [
       "[(0.33780332056194123, 0.24019138755980862, nan, nan, nan),\n",
       " (0.33780332056194123, 0.24019138755980862, nan, nan, nan),\n",
       " (0.33780332056194123, 0.24019138755980862, nan, nan, nan),\n",
       " (0.33780332056194123, 0.24019138755980862, nan, nan, nan),\n",
       " (0.33780332056194123, 0.24019138755980862, nan, nan, nan),\n",
       " (0.33780332056194123, 0.24019138755980862, nan, nan, nan),\n",
       " (0.33780332056194123, 0.24019138755980862, nan, nan, nan),\n",
       " (0.33780332056194123, 0.24019138755980862, nan, nan, nan),\n",
       " (0.33780332056194123, 0.24019138755980862, nan, nan, nan)]"
      ]
     },
     "execution_count": 87,
     "metadata": {},
     "output_type": "execute_result"
    }
   ],
   "source": [
    "metrics_iter"
   ]
  },
  {
   "cell_type": "code",
   "execution_count": 44,
   "metadata": {
    "collapsed": false
   },
   "outputs": [
    {
     "data": {
      "text/plain": [
       "[0.25550239234449762,\n",
       " 0.18373205741626794,\n",
       " 0.16459330143540671,\n",
       " 0.16459330143540671,\n",
       " 0.23923444976076555,\n",
       " 0.092822966507177029,\n",
       " 0.24019138755980862,\n",
       " 0.24019138755980862,\n",
       " 0.24019138755980862,\n",
       " 0.24019138755980862]"
      ]
     },
     "execution_count": 44,
     "metadata": {},
     "output_type": "execute_result"
    }
   ],
   "source": [
    "accuracies"
   ]
  },
  {
   "cell_type": "code",
   "execution_count": 45,
   "metadata": {
    "collapsed": true
   },
   "outputs": [],
   "source": [
    "list_clf =['svc', 'knn', 'random_forest', 'extra_trees', 'ada_boost', 'gradient_boosting', 'sgd']\n",
    "lis_clf_num ="
   ]
  },
  {
   "cell_type": "code",
   "execution_count": 69,
   "metadata": {
    "collapsed": false
   },
   "outputs": [],
   "source": [
    "clf_iter = estim_iter.trials.vals['clf']\n",
    "clf_iter_name = []"
   ]
  },
  {
   "cell_type": "code",
   "execution_count": 85,
   "metadata": {
    "collapsed": false
   },
   "outputs": [
    {
     "data": {
      "image/png": "[encoded data removed]",
      "text/plain": [
       "<matplotlib.figure.Figure at 0x7f49429eb358>"
      ]
     },
     "metadata": {},
     "output_type": "display_data"
    }
   ],
   "source": [
    "plt.plot(accuracies)\n",
    "plt.ylabel('Test Accuracy')\n",
    "plt.show()"
   ]
  },
  {
   "cell_type": "code",
   "execution_count": 89,
   "metadata": {
    "collapsed": false,
    "scrolled": true
   },
   "outputs": [
    {
     "ename": "TypeError",
     "evalue": "unorderable types: NoneType() <= float()",
     "output_type": "error",
     "traceback": [
      "\u001b[0;31m---------------------------------------------------------------------------\u001b[0m",
      "\u001b[0;31mAttributeError\u001b[0m                            Traceback (most recent call last)",
      "\u001b[0;32m/home/selma/.local/lib/python3.5/site-packages/numpy/core/fromnumeric.py\u001b[0m in \u001b[0;36mamin\u001b[0;34m(a, axis, out, keepdims)\u001b[0m\n\u001b[1;32m   2389\u001b[0m         \u001b[0;32mtry\u001b[0m\u001b[0;34m:\u001b[0m\u001b[0;34m\u001b[0m\u001b[0m\n\u001b[0;32m-> 2390\u001b[0;31m             \u001b[0mamin\u001b[0m \u001b[0;34m=\u001b[0m \u001b[0ma\u001b[0m\u001b[0;34m.\u001b[0m\u001b[0mmin\u001b[0m\u001b[0;34m\u001b[0m\u001b[0m\n\u001b[0m\u001b[1;32m   2391\u001b[0m         \u001b[0;32mexcept\u001b[0m \u001b[0mAttributeError\u001b[0m\u001b[0;34m:\u001b[0m\u001b[0;34m\u001b[0m\u001b[0m\n",
      "\u001b[0;31mAttributeError\u001b[0m: 'list' object has no attribute 'min'",
      "\nDuring handling of the above exception, another exception occurred:\n",
      "\u001b[0;31mTypeError\u001b[0m                                 Traceback (most recent call last)",
      "\u001b[0;32m<ipython-input-89-807ca56f94bd>\u001b[0m in \u001b[0;36m<module>\u001b[0;34m()\u001b[0m\n\u001b[0;32m----> 1\u001b[0;31m \u001b[0maux\u001b[0m\u001b[0;34m.\u001b[0m\u001b[0mplot_perf\u001b[0m\u001b[0;34m(\u001b[0m\u001b[0mestim_iter\u001b[0m\u001b[0;34m)\u001b[0m\u001b[0;34m\u001b[0m\u001b[0m\n\u001b[0m",
      "\u001b[0;32m/home/selma/hp-sk/Notebooks/fonctions_auxiliaires.py\u001b[0m in \u001b[0;36mplot_perf\u001b[0;34m(estimator)\u001b[0m\n\u001b[1;32m     69\u001b[0m     \u001b[0mdemo_support\u001b[0m\u001b[0;34m.\u001b[0m\u001b[0mscatter_error_vs_time\u001b[0m\u001b[0;34m(\u001b[0m\u001b[0mestimator\u001b[0m\u001b[0;34m,\u001b[0m \u001b[0max\u001b[0m\u001b[0;34m)\u001b[0m\u001b[0;34m\u001b[0m\u001b[0m\n\u001b[1;32m     70\u001b[0m     \u001b[0max2\u001b[0m \u001b[0;34m=\u001b[0m \u001b[0mfig\u001b[0m\u001b[0;34m.\u001b[0m\u001b[0madd_subplot\u001b[0m\u001b[0;34m(\u001b[0m\u001b[0;36m111\u001b[0m\u001b[0;34m)\u001b[0m\u001b[0;34m\u001b[0m\u001b[0m\n\u001b[0;32m---> 71\u001b[0;31m     \u001b[0mdemo_support\u001b[0m\u001b[0;34m.\u001b[0m\u001b[0mplot_minvalid_vs_time\u001b[0m\u001b[0;34m(\u001b[0m\u001b[0mestimator\u001b[0m\u001b[0;34m,\u001b[0m \u001b[0max2\u001b[0m\u001b[0;34m)\u001b[0m\u001b[0;34m\u001b[0m\u001b[0m\n\u001b[0m\u001b[1;32m     72\u001b[0m \u001b[0;34m\u001b[0m\u001b[0m\n",
      "\u001b[0;32m/home/selma/hyperopt-sklearn/hpsklearn/demo_support.py\u001b[0m in \u001b[0;36mplot_minvalid_vs_time\u001b[0;34m(estimator, ax, ylim)\u001b[0m\n\u001b[1;32m     15\u001b[0m     \u001b[0mlosses\u001b[0m \u001b[0;34m=\u001b[0m \u001b[0mestimator\u001b[0m\u001b[0;34m.\u001b[0m\u001b[0mtrials\u001b[0m\u001b[0;34m.\u001b[0m\u001b[0mlosses\u001b[0m\u001b[0;34m(\u001b[0m\u001b[0;34m)\u001b[0m\u001b[0;34m\u001b[0m\u001b[0m\n\u001b[1;32m     16\u001b[0m     \u001b[0mts\u001b[0m \u001b[0;34m=\u001b[0m \u001b[0mlist\u001b[0m\u001b[0;34m(\u001b[0m\u001b[0mrange\u001b[0m\u001b[0;34m(\u001b[0m\u001b[0;36m1\u001b[0m\u001b[0;34m,\u001b[0m \u001b[0mlen\u001b[0m\u001b[0;34m(\u001b[0m\u001b[0mlosses\u001b[0m\u001b[0;34m)\u001b[0m\u001b[0;34m)\u001b[0m\u001b[0;34m)\u001b[0m\u001b[0;34m\u001b[0m\u001b[0m\n\u001b[0;32m---> 17\u001b[0;31m     \u001b[0mmins\u001b[0m \u001b[0;34m=\u001b[0m \u001b[0;34m[\u001b[0m\u001b[0mnp\u001b[0m\u001b[0;34m.\u001b[0m\u001b[0mmin\u001b[0m\u001b[0;34m(\u001b[0m\u001b[0mlosses\u001b[0m\u001b[0;34m[\u001b[0m\u001b[0;34m:\u001b[0m\u001b[0mii\u001b[0m\u001b[0;34m]\u001b[0m\u001b[0;34m)\u001b[0m \u001b[0;32mfor\u001b[0m \u001b[0mii\u001b[0m \u001b[0;32min\u001b[0m \u001b[0mts\u001b[0m\u001b[0;34m]\u001b[0m\u001b[0;34m\u001b[0m\u001b[0m\n\u001b[0m\u001b[1;32m     18\u001b[0m     \u001b[0max\u001b[0m\u001b[0;34m.\u001b[0m\u001b[0mset_ylabel\u001b[0m\u001b[0;34m(\u001b[0m\u001b[0;34m'min(Validation error rate to-date)'\u001b[0m\u001b[0;34m)\u001b[0m\u001b[0;34m\u001b[0m\u001b[0m\n\u001b[1;32m     19\u001b[0m     \u001b[0max\u001b[0m\u001b[0;34m.\u001b[0m\u001b[0mset_xlabel\u001b[0m\u001b[0;34m(\u001b[0m\u001b[0;34m'Iteration'\u001b[0m\u001b[0;34m)\u001b[0m\u001b[0;34m\u001b[0m\u001b[0m\n",
      "\u001b[0;32m/home/selma/hyperopt-sklearn/hpsklearn/demo_support.py\u001b[0m in \u001b[0;36m<listcomp>\u001b[0;34m(.0)\u001b[0m\n\u001b[1;32m     15\u001b[0m     \u001b[0mlosses\u001b[0m \u001b[0;34m=\u001b[0m \u001b[0mestimator\u001b[0m\u001b[0;34m.\u001b[0m\u001b[0mtrials\u001b[0m\u001b[0;34m.\u001b[0m\u001b[0mlosses\u001b[0m\u001b[0;34m(\u001b[0m\u001b[0;34m)\u001b[0m\u001b[0;34m\u001b[0m\u001b[0m\n\u001b[1;32m     16\u001b[0m     \u001b[0mts\u001b[0m \u001b[0;34m=\u001b[0m \u001b[0mlist\u001b[0m\u001b[0;34m(\u001b[0m\u001b[0mrange\u001b[0m\u001b[0;34m(\u001b[0m\u001b[0;36m1\u001b[0m\u001b[0;34m,\u001b[0m \u001b[0mlen\u001b[0m\u001b[0;34m(\u001b[0m\u001b[0mlosses\u001b[0m\u001b[0;34m)\u001b[0m\u001b[0;34m)\u001b[0m\u001b[0;34m)\u001b[0m\u001b[0;34m\u001b[0m\u001b[0m\n\u001b[0;32m---> 17\u001b[0;31m     \u001b[0mmins\u001b[0m \u001b[0;34m=\u001b[0m \u001b[0;34m[\u001b[0m\u001b[0mnp\u001b[0m\u001b[0;34m.\u001b[0m\u001b[0mmin\u001b[0m\u001b[0;34m(\u001b[0m\u001b[0mlosses\u001b[0m\u001b[0;34m[\u001b[0m\u001b[0;34m:\u001b[0m\u001b[0mii\u001b[0m\u001b[0;34m]\u001b[0m\u001b[0;34m)\u001b[0m \u001b[0;32mfor\u001b[0m \u001b[0mii\u001b[0m \u001b[0;32min\u001b[0m \u001b[0mts\u001b[0m\u001b[0;34m]\u001b[0m\u001b[0;34m\u001b[0m\u001b[0m\n\u001b[0m\u001b[1;32m     18\u001b[0m     \u001b[0max\u001b[0m\u001b[0;34m.\u001b[0m\u001b[0mset_ylabel\u001b[0m\u001b[0;34m(\u001b[0m\u001b[0;34m'min(Validation error rate to-date)'\u001b[0m\u001b[0;34m)\u001b[0m\u001b[0;34m\u001b[0m\u001b[0m\n\u001b[1;32m     19\u001b[0m     \u001b[0max\u001b[0m\u001b[0;34m.\u001b[0m\u001b[0mset_xlabel\u001b[0m\u001b[0;34m(\u001b[0m\u001b[0;34m'Iteration'\u001b[0m\u001b[0;34m)\u001b[0m\u001b[0;34m\u001b[0m\u001b[0m\n",
      "\u001b[0;32m/home/selma/.local/lib/python3.5/site-packages/numpy/core/fromnumeric.py\u001b[0m in \u001b[0;36mamin\u001b[0;34m(a, axis, out, keepdims)\u001b[0m\n\u001b[1;32m   2391\u001b[0m         \u001b[0;32mexcept\u001b[0m \u001b[0mAttributeError\u001b[0m\u001b[0;34m:\u001b[0m\u001b[0;34m\u001b[0m\u001b[0m\n\u001b[1;32m   2392\u001b[0m             return _methods._amin(a, axis=axis,\n\u001b[0;32m-> 2393\u001b[0;31m                                 out=out, **kwargs)\n\u001b[0m\u001b[1;32m   2394\u001b[0m         \u001b[0;32mreturn\u001b[0m \u001b[0mamin\u001b[0m\u001b[0;34m(\u001b[0m\u001b[0maxis\u001b[0m\u001b[0;34m=\u001b[0m\u001b[0maxis\u001b[0m\u001b[0;34m,\u001b[0m \u001b[0mout\u001b[0m\u001b[0;34m=\u001b[0m\u001b[0mout\u001b[0m\u001b[0;34m,\u001b[0m \u001b[0;34m**\u001b[0m\u001b[0mkwargs\u001b[0m\u001b[0;34m)\u001b[0m\u001b[0;34m\u001b[0m\u001b[0m\n\u001b[1;32m   2395\u001b[0m     \u001b[0;32melse\u001b[0m\u001b[0;34m:\u001b[0m\u001b[0;34m\u001b[0m\u001b[0m\n",
      "\u001b[0;32m/home/selma/.local/lib/python3.5/site-packages/numpy/core/_methods.py\u001b[0m in \u001b[0;36m_amin\u001b[0;34m(a, axis, out, keepdims)\u001b[0m\n\u001b[1;32m     27\u001b[0m \u001b[0;34m\u001b[0m\u001b[0m\n\u001b[1;32m     28\u001b[0m \u001b[0;32mdef\u001b[0m \u001b[0m_amin\u001b[0m\u001b[0;34m(\u001b[0m\u001b[0ma\u001b[0m\u001b[0;34m,\u001b[0m \u001b[0maxis\u001b[0m\u001b[0;34m=\u001b[0m\u001b[0;32mNone\u001b[0m\u001b[0;34m,\u001b[0m \u001b[0mout\u001b[0m\u001b[0;34m=\u001b[0m\u001b[0;32mNone\u001b[0m\u001b[0;34m,\u001b[0m \u001b[0mkeepdims\u001b[0m\u001b[0;34m=\u001b[0m\u001b[0;32mFalse\u001b[0m\u001b[0;34m)\u001b[0m\u001b[0;34m:\u001b[0m\u001b[0;34m\u001b[0m\u001b[0m\n\u001b[0;32m---> 29\u001b[0;31m     \u001b[0;32mreturn\u001b[0m \u001b[0mumr_minimum\u001b[0m\u001b[0;34m(\u001b[0m\u001b[0ma\u001b[0m\u001b[0;34m,\u001b[0m \u001b[0maxis\u001b[0m\u001b[0;34m,\u001b[0m \u001b[0;32mNone\u001b[0m\u001b[0;34m,\u001b[0m \u001b[0mout\u001b[0m\u001b[0;34m,\u001b[0m \u001b[0mkeepdims\u001b[0m\u001b[0;34m)\u001b[0m\u001b[0;34m\u001b[0m\u001b[0m\n\u001b[0m\u001b[1;32m     30\u001b[0m \u001b[0;34m\u001b[0m\u001b[0m\n\u001b[1;32m     31\u001b[0m \u001b[0;32mdef\u001b[0m \u001b[0m_sum\u001b[0m\u001b[0;34m(\u001b[0m\u001b[0ma\u001b[0m\u001b[0;34m,\u001b[0m \u001b[0maxis\u001b[0m\u001b[0;34m=\u001b[0m\u001b[0;32mNone\u001b[0m\u001b[0;34m,\u001b[0m \u001b[0mdtype\u001b[0m\u001b[0;34m=\u001b[0m\u001b[0;32mNone\u001b[0m\u001b[0;34m,\u001b[0m \u001b[0mout\u001b[0m\u001b[0;34m=\u001b[0m\u001b[0;32mNone\u001b[0m\u001b[0;34m,\u001b[0m \u001b[0mkeepdims\u001b[0m\u001b[0;34m=\u001b[0m\u001b[0;32mFalse\u001b[0m\u001b[0;34m)\u001b[0m\u001b[0;34m:\u001b[0m\u001b[0;34m\u001b[0m\u001b[0m\n",
      "\u001b[0;31mTypeError\u001b[0m: unorderable types: NoneType() <= float()"
     ]
    },
    {
     "data": {
      "image/png": "[encoded data removed]",
      "text/plain": [
       "<matplotlib.figure.Figure at 0x7f49429df080>"
      ]
     },
     "metadata": {},
     "output_type": "display_data"
    }
   ],
   "source": [
    "aux.plot_perf(estim_iter)"
   ]
  },
  {
   "cell_type": "code",
   "execution_count": null,
   "metadata": {
    "collapsed": false
   },
   "outputs": [],
   "source": [
    "classifiers = pd.DataFrame.from_dict(classifiers, 'index')"
   ]
  },
  {
   "cell_type": "code",
   "execution_count": null,
   "metadata": {
    "collapsed": false
   },
   "outputs": [],
   "source": [
    "classifiers.columns = ['parameters']"
   ]
  },
  {
   "cell_type": "code",
   "execution_count": null,
   "metadata": {
    "collapsed": false
   },
   "outputs": [],
   "source": [
    "classifiers.sort_index()\n",
    "classifier1 = classifiers.ix[~(classifiers.parameters.isnull())].sort_index()"
   ]
  },
  {
   "cell_type": "code",
   "execution_count": null,
   "metadata": {
    "collapsed": false
   },
   "outputs": [],
   "source": [
    "classifier1"
   ]
  },
  {
   "cell_type": "code",
   "execution_count": null,
   "metadata": {
    "collapsed": true
   },
   "outputs": [],
   "source": []
  }
 ],
 "metadata": {
  "kernelspec": {
   "display_name": "Python 3",
   "language": "python",
   "name": "python3"
  },
  "language_info": {
   "codemirror_mode": {
    "name": "ipython",
    "version": 3
   },
   "file_extension": ".py",
   "mimetype": "text/x-python",
   "name": "python",
   "nbconvert_exporter": "python",
   "pygments_lexer": "ipython3",
   "version": "3.5.2"
  }
 },
 "nbformat": 4,
 "nbformat_minor": 1
}
