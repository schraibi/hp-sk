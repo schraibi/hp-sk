{
 "cells": [
  {
   "cell_type": "code",
   "execution_count": 30,
   "metadata": {
    "collapsed": false
   },
   "outputs": [],
   "source": [
    "from hpsklearn import estimator, components\n",
    "import numpy as np\n",
    "from hyperopt import tpe\n",
    "import sklearn.metrics\n",
    "import sklearn.cross_validation\n",
    "import pandas as pd\n",
    "from sklearn.preprocessing import LabelEncoder\n",
    "import fonctions_auxiliaires as aux\n",
    "%matplotlib inline\n",
    "import warnings\n",
    "import matplotlib.pyplot as plt"
   ]
  },
  {
   "cell_type": "code",
   "execution_count": 10,
   "metadata": {
    "collapsed": true
   },
   "outputs": [],
   "source": [
    "warnings.filterwarnings('ignore')"
   ]
  },
  {
   "cell_type": "code",
   "execution_count": 11,
   "metadata": {
    "collapsed": false
   },
   "outputs": [],
   "source": [
    "dataTrain = pd.read_csv('train_boson.csv', delimiter=',')\n",
    "dataTest = pd.read_csv('test_boson.csv', delimiter=',')"
   ]
  },
  {
   "cell_type": "code",
   "execution_count": 12,
   "metadata": {
    "collapsed": false
   },
   "outputs": [],
   "source": [
    "y = dataTrain[\"Prediction\"]\n",
    "del dataTrain[\"Prediction\"]\n",
    "X = dataTrain"
   ]
  },
  {
   "cell_type": "code",
   "execution_count": 13,
   "metadata": {
    "collapsed": false
   },
   "outputs": [],
   "source": [
    "le = LabelEncoder()\n",
    "y = le.fit_transform(y)"
   ]
  },
  {
   "cell_type": "code",
   "execution_count": 14,
   "metadata": {
    "collapsed": true
   },
   "outputs": [],
   "source": [
    "X_train, X_test, y_train, y_test = \\\n",
    "    sklearn.cross_validation.train_test_split(X, y, random_state=1)"
   ]
  },
  {
   "cell_type": "markdown",
   "metadata": {},
   "source": [
    "### General results"
   ]
  },
  {
   "cell_type": "code",
   "execution_count": 15,
   "metadata": {
    "collapsed": false
   },
   "outputs": [],
   "source": [
    "estim = estimator.hyperopt_estimator(classifier=components.any_classifier('clf'),algo=tpe.suggest, trial_timeout=300, \\\n",
    "                                    fit_increment = 1, fit_increment_dump_filename='boson_logfile')"
   ]
  },
  {
   "cell_type": "code",
   "execution_count": 16,
   "metadata": {
    "collapsed": false,
    "scrolled": true
   },
   "outputs": [],
   "source": [
    "estim.fit(np.ascontiguousarray(X_train),np.ascontiguousarray(y_train))"
   ]
  },
  {
   "cell_type": "code",
   "execution_count": 17,
   "metadata": {
    "collapsed": true
   },
   "outputs": [],
   "source": [
    "y = estim.predict(X_test)\n",
    "metrics_boson = aux.metrics(estim, X_train, y_train, X_test, y_test, y)"
   ]
  },
  {
   "cell_type": "code",
   "execution_count": 18,
   "metadata": {
    "collapsed": false
   },
   "outputs": [
    {
     "data": {
      "text/plain": [
       "(0.90250133333333338,\n",
       " 0.63572799999999996,\n",
       " 0.91748383816372481,\n",
       " 0.66186334101865441,\n",
       " 0.76898724544153896)"
      ]
     },
     "execution_count": 18,
     "metadata": {},
     "output_type": "execute_result"
    }
   ],
   "source": [
    "metrics_boson"
   ]
  },
  {
   "cell_type": "code",
   "execution_count": 19,
   "metadata": {
    "collapsed": false
   },
   "outputs": [
    {
     "data": {
      "text/plain": [
       "{'clf': [0, 1, 3, 0, 1, 4, 5, 2, 2, 6],\n",
       " 'clf.ada_boost.ada_boost_algo': [0],\n",
       " 'clf.ada_boost.ada_boost_learning_rate': [0.012110723979515299],\n",
       " 'clf.ada_boost.ada_boost_n_estimators': [94.0],\n",
       " 'clf.ada_boost.ada_boost_rstate': [1],\n",
       " 'clf.extra_trees.etc_bootstrap': [0],\n",
       " 'clf.extra_trees.etc_criterion': [0],\n",
       " 'clf.extra_trees.etc_max_depth': [0],\n",
       " 'clf.extra_trees.etc_max_features': [2],\n",
       " 'clf.extra_trees.etc_max_features.frac': [],\n",
       " 'clf.extra_trees.etc_min_samples_leaf': [1],\n",
       " 'clf.extra_trees.etc_min_samples_leaf.gt1': [6.0],\n",
       " 'clf.extra_trees.etc_n_estimators': [45.0],\n",
       " 'clf.extra_trees.etc_rstate': [0],\n",
       " 'clf.grad_boosting.gradient_boosting_learning_rate': [0.19231351607307418],\n",
       " 'clf.grad_boosting.gradient_boosting_max_depth': [0],\n",
       " 'clf.grad_boosting.gradient_boosting_max_features': [3],\n",
       " 'clf.grad_boosting.gradient_boosting_max_features.frac': [0.23578423134626225],\n",
       " 'clf.grad_boosting.gradient_boosting_min_samples_leaf': [1],\n",
       " 'clf.grad_boosting.gradient_boosting_min_samples_leaf.gt1': [50.0],\n",
       " 'clf.grad_boosting.gradient_boosting_n_estimators': [89.0],\n",
       " 'clf.grad_boosting.gradient_boosting_rstate': [4],\n",
       " 'clf.grad_boosting.gradient_boosting_subsample': [1],\n",
       " 'clf.grad_boosting.gradient_boosting_subsample.sgb': [0.7349864185815222],\n",
       " 'clf.knn.knc_metric_p': [3, 2],\n",
       " 'clf.knn.knc_metric_p.p': [4.0],\n",
       " 'clf.knn.knc_neighbors': [1.0, 5.0],\n",
       " 'clf.knn.knc_weights': [1, 0],\n",
       " 'clf.random_forest.rfc_bootstrap': [1, 0],\n",
       " 'clf.random_forest.rfc_criterion': [1, 0],\n",
       " 'clf.random_forest.rfc_max_depth': [0, 0],\n",
       " 'clf.random_forest.rfc_max_features': [3, 3],\n",
       " 'clf.random_forest.rfc_max_features.frac': [0.23373152162234911,\n",
       "  0.3040130994253081],\n",
       " 'clf.random_forest.rfc_min_samples_leaf': [0, 0],\n",
       " 'clf.random_forest.rfc_min_samples_leaf.gt1': [],\n",
       " 'clf.random_forest.rfc_n_estimators': [1785.0, 11.0],\n",
       " 'clf.random_forest.rfc_rstate': [4, 1],\n",
       " 'clf.sgd.sgdc_alpha': [0.005601934242191654],\n",
       " 'clf.sgd.sgdc_clsweight': [0],\n",
       " 'clf.sgd.sgdc_eta0': [0.00032216732309026574],\n",
       " 'clf.sgd.sgdc_l1ratio': [0.8598676009998842],\n",
       " 'clf.sgd.sgdc_learning_rate': [2],\n",
       " 'clf.sgd.sgdc_loss': [4],\n",
       " 'clf.sgd.sgdc_penalty': [0],\n",
       " 'clf.sgd.sgdc_power_t': [0.6326785833233924],\n",
       " 'clf.sgd.sgdc_rstate': [2],\n",
       " 'clf.svc.kernel': [1, 0],\n",
       " 'clf.svc.linear_C': [0.7648130270968059],\n",
       " 'clf.svc.linear_maxiter': [315503079.0],\n",
       " 'clf.svc.linear_rstate': [4],\n",
       " 'clf.svc.linear_shrinking': [0],\n",
       " 'clf.svc.linear_tol': [1.2304214660581824e-05],\n",
       " 'clf.svc.poly_C': [],\n",
       " 'clf.svc.poly_coef0': [],\n",
       " 'clf.svc.poly_coef0val': [],\n",
       " 'clf.svc.poly_degree': [],\n",
       " 'clf.svc.poly_gamma': [],\n",
       " 'clf.svc.poly_maxiter': [],\n",
       " 'clf.svc.poly_rstate': [],\n",
       " 'clf.svc.poly_shrinking': [],\n",
       " 'clf.svc.poly_tol': [],\n",
       " 'clf.svc.rbf_C': [2.114579960661456e-05],\n",
       " 'clf.svc.rbf_gamma': [0.0013125391314552403],\n",
       " 'clf.svc.rbf_maxiter': [224304847.0],\n",
       " 'clf.svc.rbf_rstate': [1],\n",
       " 'clf.svc.rbf_shrinking': [1],\n",
       " 'clf.svc.rbf_tol': [5.036092598028986e-05],\n",
       " 'clf.svc.sigmoid_C': [],\n",
       " 'clf.svc.sigmoid_coef0': [],\n",
       " 'clf.svc.sigmoid_coef0val': [],\n",
       " 'clf.svc.sigmoid_gamma': [],\n",
       " 'clf.svc.sigmoid_maxiter': [],\n",
       " 'clf.svc.sigmoid_rstate': [],\n",
       " 'clf.svc.sigmoid_shrinking': [],\n",
       " 'clf.svc.sigmoid_tol': [],\n",
       " 'preprocessing': [0, 1, 2, 4, 4, 2, 4, 0, 4, 1],\n",
       " 'preprocessing.min_max_scaler.feature_min': [1, 0],\n",
       " 'preprocessing.normalizer.norm': [],\n",
       " 'preprocessing.pca.n_components': [6.0, 3.0],\n",
       " 'preprocessing.pca.whiten': [0, 1],\n",
       " 'preprocessing.standard_scaler.with_mean': [1, 0],\n",
       " 'preprocessing.standard_scaler.with_std': [1, 0]}"
      ]
     },
     "execution_count": 19,
     "metadata": {},
     "output_type": "execute_result"
    }
   ],
   "source": [
    "estim.trials.vals"
   ]
  },
  {
   "cell_type": "code",
   "execution_count": 20,
   "metadata": {
    "collapsed": false
   },
   "outputs": [
    {
     "name": "stdout",
     "output_type": "stream",
     "text": [
      "{'learner': ExtraTreesClassifier(bootstrap=True, class_weight=None, criterion='gini',\n",
      "           max_depth=None, max_features=None, max_leaf_nodes=None,\n",
      "           min_samples_leaf=6, min_samples_split=2,\n",
      "           min_weight_fraction_leaf=0.0, n_estimators=45, n_jobs=1,\n",
      "           oob_score=False, random_state=0, verbose=False,\n",
      "           warm_start=False), 'preprocs': (MinMaxScaler(copy=True, feature_range=(0.0, 1.0)),), 'ex_preprocs': ()}\n"
     ]
    }
   ],
   "source": [
    "print(estim.best_model()) "
   ]
  },
  {
   "cell_type": "code",
   "execution_count": 21,
   "metadata": {
    "collapsed": false
   },
   "outputs": [
    {
     "data": {
      "text/plain": [
       "{0: 1482225348.0,\n",
       " 1: 1482225650.0,\n",
       " 2: 1482225950.0,\n",
       " 3: 1482226064.0,\n",
       " 4: 1482226364.0,\n",
       " 5: 1482226377.0,\n",
       " 6: 1482226605.0,\n",
       " 7: 1482226906.0,\n",
       " 8: 1482227209.0,\n",
       " 9: 1482227312.0}"
      ]
     },
     "execution_count": 21,
     "metadata": {},
     "output_type": "execute_result"
    }
   ],
   "source": [
    "aux.time_retriever(estim)"
   ]
  },
  {
   "cell_type": "code",
   "execution_count": 22,
   "metadata": {
    "collapsed": false
   },
   "outputs": [
    {
     "ename": "TypeError",
     "evalue": "unorderable types: NoneType() <= NoneType()",
     "output_type": "error",
     "traceback": [
      "\u001b[0;31m---------------------------------------------------------------------------\u001b[0m",
      "\u001b[0;31mAttributeError\u001b[0m                            Traceback (most recent call last)",
      "\u001b[0;32m/home/selma/.local/lib/python3.5/site-packages/numpy/core/fromnumeric.py\u001b[0m in \u001b[0;36mamin\u001b[0;34m(a, axis, out, keepdims)\u001b[0m\n\u001b[1;32m   2389\u001b[0m         \u001b[0;32mtry\u001b[0m\u001b[0;34m:\u001b[0m\u001b[0;34m\u001b[0m\u001b[0m\n\u001b[0;32m-> 2390\u001b[0;31m             \u001b[0mamin\u001b[0m \u001b[0;34m=\u001b[0m \u001b[0ma\u001b[0m\u001b[0;34m.\u001b[0m\u001b[0mmin\u001b[0m\u001b[0;34m\u001b[0m\u001b[0m\n\u001b[0m\u001b[1;32m   2391\u001b[0m         \u001b[0;32mexcept\u001b[0m \u001b[0mAttributeError\u001b[0m\u001b[0;34m:\u001b[0m\u001b[0;34m\u001b[0m\u001b[0m\n",
      "\u001b[0;31mAttributeError\u001b[0m: 'list' object has no attribute 'min'",
      "\nDuring handling of the above exception, another exception occurred:\n",
      "\u001b[0;31mTypeError\u001b[0m                                 Traceback (most recent call last)",
      "\u001b[0;32m<ipython-input-22-529b96a5b7dd>\u001b[0m in \u001b[0;36m<module>\u001b[0;34m()\u001b[0m\n\u001b[0;32m----> 1\u001b[0;31m \u001b[0maux\u001b[0m\u001b[0;34m.\u001b[0m\u001b[0mplot_perf\u001b[0m\u001b[0;34m(\u001b[0m\u001b[0mestim\u001b[0m\u001b[0;34m)\u001b[0m\u001b[0;34m\u001b[0m\u001b[0m\n\u001b[0m",
      "\u001b[0;32m/home/selma/hp-sk/Notebooks/fonctions_auxiliaires.py\u001b[0m in \u001b[0;36mplot_perf\u001b[0;34m(estimator)\u001b[0m\n\u001b[1;32m     69\u001b[0m     \u001b[0mdemo_support\u001b[0m\u001b[0;34m.\u001b[0m\u001b[0mscatter_error_vs_time\u001b[0m\u001b[0;34m(\u001b[0m\u001b[0mestimator\u001b[0m\u001b[0;34m,\u001b[0m \u001b[0max\u001b[0m\u001b[0;34m)\u001b[0m\u001b[0;34m\u001b[0m\u001b[0m\n\u001b[1;32m     70\u001b[0m     \u001b[0max2\u001b[0m \u001b[0;34m=\u001b[0m \u001b[0mfig\u001b[0m\u001b[0;34m.\u001b[0m\u001b[0madd_subplot\u001b[0m\u001b[0;34m(\u001b[0m\u001b[0;36m111\u001b[0m\u001b[0;34m)\u001b[0m\u001b[0;34m\u001b[0m\u001b[0m\n\u001b[0;32m---> 71\u001b[0;31m     \u001b[0mdemo_support\u001b[0m\u001b[0;34m.\u001b[0m\u001b[0mplot_minvalid_vs_time\u001b[0m\u001b[0;34m(\u001b[0m\u001b[0mestimator\u001b[0m\u001b[0;34m,\u001b[0m \u001b[0max2\u001b[0m\u001b[0;34m)\u001b[0m\u001b[0;34m\u001b[0m\u001b[0m\n\u001b[0m\u001b[1;32m     72\u001b[0m \u001b[0;34m\u001b[0m\u001b[0m\n",
      "\u001b[0;32m/home/selma/hyperopt-sklearn/hpsklearn/demo_support.py\u001b[0m in \u001b[0;36mplot_minvalid_vs_time\u001b[0;34m(estimator, ax, ylim)\u001b[0m\n\u001b[1;32m     15\u001b[0m     \u001b[0mlosses\u001b[0m \u001b[0;34m=\u001b[0m \u001b[0mestimator\u001b[0m\u001b[0;34m.\u001b[0m\u001b[0mtrials\u001b[0m\u001b[0;34m.\u001b[0m\u001b[0mlosses\u001b[0m\u001b[0;34m(\u001b[0m\u001b[0;34m)\u001b[0m\u001b[0;34m\u001b[0m\u001b[0m\n\u001b[1;32m     16\u001b[0m     \u001b[0mts\u001b[0m \u001b[0;34m=\u001b[0m \u001b[0mlist\u001b[0m\u001b[0;34m(\u001b[0m\u001b[0mrange\u001b[0m\u001b[0;34m(\u001b[0m\u001b[0;36m1\u001b[0m\u001b[0;34m,\u001b[0m \u001b[0mlen\u001b[0m\u001b[0;34m(\u001b[0m\u001b[0mlosses\u001b[0m\u001b[0;34m)\u001b[0m\u001b[0;34m)\u001b[0m\u001b[0;34m)\u001b[0m\u001b[0;34m\u001b[0m\u001b[0m\n\u001b[0;32m---> 17\u001b[0;31m     \u001b[0mmins\u001b[0m \u001b[0;34m=\u001b[0m \u001b[0;34m[\u001b[0m\u001b[0mnp\u001b[0m\u001b[0;34m.\u001b[0m\u001b[0mmin\u001b[0m\u001b[0;34m(\u001b[0m\u001b[0mlosses\u001b[0m\u001b[0;34m[\u001b[0m\u001b[0;34m:\u001b[0m\u001b[0mii\u001b[0m\u001b[0;34m]\u001b[0m\u001b[0;34m)\u001b[0m \u001b[0;32mfor\u001b[0m \u001b[0mii\u001b[0m \u001b[0;32min\u001b[0m \u001b[0mts\u001b[0m\u001b[0;34m]\u001b[0m\u001b[0;34m\u001b[0m\u001b[0m\n\u001b[0m\u001b[1;32m     18\u001b[0m     \u001b[0max\u001b[0m\u001b[0;34m.\u001b[0m\u001b[0mset_ylabel\u001b[0m\u001b[0;34m(\u001b[0m\u001b[0;34m'min(Validation error rate to-date)'\u001b[0m\u001b[0;34m)\u001b[0m\u001b[0;34m\u001b[0m\u001b[0m\n\u001b[1;32m     19\u001b[0m     \u001b[0max\u001b[0m\u001b[0;34m.\u001b[0m\u001b[0mset_xlabel\u001b[0m\u001b[0;34m(\u001b[0m\u001b[0;34m'Iteration'\u001b[0m\u001b[0;34m)\u001b[0m\u001b[0;34m\u001b[0m\u001b[0m\n",
      "\u001b[0;32m/home/selma/hyperopt-sklearn/hpsklearn/demo_support.py\u001b[0m in \u001b[0;36m<listcomp>\u001b[0;34m(.0)\u001b[0m\n\u001b[1;32m     15\u001b[0m     \u001b[0mlosses\u001b[0m \u001b[0;34m=\u001b[0m \u001b[0mestimator\u001b[0m\u001b[0;34m.\u001b[0m\u001b[0mtrials\u001b[0m\u001b[0;34m.\u001b[0m\u001b[0mlosses\u001b[0m\u001b[0;34m(\u001b[0m\u001b[0;34m)\u001b[0m\u001b[0;34m\u001b[0m\u001b[0m\n\u001b[1;32m     16\u001b[0m     \u001b[0mts\u001b[0m \u001b[0;34m=\u001b[0m \u001b[0mlist\u001b[0m\u001b[0;34m(\u001b[0m\u001b[0mrange\u001b[0m\u001b[0;34m(\u001b[0m\u001b[0;36m1\u001b[0m\u001b[0;34m,\u001b[0m \u001b[0mlen\u001b[0m\u001b[0;34m(\u001b[0m\u001b[0mlosses\u001b[0m\u001b[0;34m)\u001b[0m\u001b[0;34m)\u001b[0m\u001b[0;34m)\u001b[0m\u001b[0;34m\u001b[0m\u001b[0m\n\u001b[0;32m---> 17\u001b[0;31m     \u001b[0mmins\u001b[0m \u001b[0;34m=\u001b[0m \u001b[0;34m[\u001b[0m\u001b[0mnp\u001b[0m\u001b[0;34m.\u001b[0m\u001b[0mmin\u001b[0m\u001b[0;34m(\u001b[0m\u001b[0mlosses\u001b[0m\u001b[0;34m[\u001b[0m\u001b[0;34m:\u001b[0m\u001b[0mii\u001b[0m\u001b[0;34m]\u001b[0m\u001b[0;34m)\u001b[0m \u001b[0;32mfor\u001b[0m \u001b[0mii\u001b[0m \u001b[0;32min\u001b[0m \u001b[0mts\u001b[0m\u001b[0;34m]\u001b[0m\u001b[0;34m\u001b[0m\u001b[0m\n\u001b[0m\u001b[1;32m     18\u001b[0m     \u001b[0max\u001b[0m\u001b[0;34m.\u001b[0m\u001b[0mset_ylabel\u001b[0m\u001b[0;34m(\u001b[0m\u001b[0;34m'min(Validation error rate to-date)'\u001b[0m\u001b[0;34m)\u001b[0m\u001b[0;34m\u001b[0m\u001b[0m\n\u001b[1;32m     19\u001b[0m     \u001b[0max\u001b[0m\u001b[0;34m.\u001b[0m\u001b[0mset_xlabel\u001b[0m\u001b[0;34m(\u001b[0m\u001b[0;34m'Iteration'\u001b[0m\u001b[0;34m)\u001b[0m\u001b[0;34m\u001b[0m\u001b[0m\n",
      "\u001b[0;32m/home/selma/.local/lib/python3.5/site-packages/numpy/core/fromnumeric.py\u001b[0m in \u001b[0;36mamin\u001b[0;34m(a, axis, out, keepdims)\u001b[0m\n\u001b[1;32m   2391\u001b[0m         \u001b[0;32mexcept\u001b[0m \u001b[0mAttributeError\u001b[0m\u001b[0;34m:\u001b[0m\u001b[0;34m\u001b[0m\u001b[0m\n\u001b[1;32m   2392\u001b[0m             return _methods._amin(a, axis=axis,\n\u001b[0;32m-> 2393\u001b[0;31m                                 out=out, **kwargs)\n\u001b[0m\u001b[1;32m   2394\u001b[0m         \u001b[0;32mreturn\u001b[0m \u001b[0mamin\u001b[0m\u001b[0;34m(\u001b[0m\u001b[0maxis\u001b[0m\u001b[0;34m=\u001b[0m\u001b[0maxis\u001b[0m\u001b[0;34m,\u001b[0m \u001b[0mout\u001b[0m\u001b[0;34m=\u001b[0m\u001b[0mout\u001b[0m\u001b[0;34m,\u001b[0m \u001b[0;34m**\u001b[0m\u001b[0mkwargs\u001b[0m\u001b[0;34m)\u001b[0m\u001b[0;34m\u001b[0m\u001b[0m\n\u001b[1;32m   2395\u001b[0m     \u001b[0;32melse\u001b[0m\u001b[0;34m:\u001b[0m\u001b[0;34m\u001b[0m\u001b[0m\n",
      "\u001b[0;32m/home/selma/.local/lib/python3.5/site-packages/numpy/core/_methods.py\u001b[0m in \u001b[0;36m_amin\u001b[0;34m(a, axis, out, keepdims)\u001b[0m\n\u001b[1;32m     27\u001b[0m \u001b[0;34m\u001b[0m\u001b[0m\n\u001b[1;32m     28\u001b[0m \u001b[0;32mdef\u001b[0m \u001b[0m_amin\u001b[0m\u001b[0;34m(\u001b[0m\u001b[0ma\u001b[0m\u001b[0;34m,\u001b[0m \u001b[0maxis\u001b[0m\u001b[0;34m=\u001b[0m\u001b[0;32mNone\u001b[0m\u001b[0;34m,\u001b[0m \u001b[0mout\u001b[0m\u001b[0;34m=\u001b[0m\u001b[0;32mNone\u001b[0m\u001b[0;34m,\u001b[0m \u001b[0mkeepdims\u001b[0m\u001b[0;34m=\u001b[0m\u001b[0;32mFalse\u001b[0m\u001b[0;34m)\u001b[0m\u001b[0;34m:\u001b[0m\u001b[0;34m\u001b[0m\u001b[0m\n\u001b[0;32m---> 29\u001b[0;31m     \u001b[0;32mreturn\u001b[0m \u001b[0mumr_minimum\u001b[0m\u001b[0;34m(\u001b[0m\u001b[0ma\u001b[0m\u001b[0;34m,\u001b[0m \u001b[0maxis\u001b[0m\u001b[0;34m,\u001b[0m \u001b[0;32mNone\u001b[0m\u001b[0;34m,\u001b[0m \u001b[0mout\u001b[0m\u001b[0;34m,\u001b[0m \u001b[0mkeepdims\u001b[0m\u001b[0;34m)\u001b[0m\u001b[0;34m\u001b[0m\u001b[0m\n\u001b[0m\u001b[1;32m     30\u001b[0m \u001b[0;34m\u001b[0m\u001b[0m\n\u001b[1;32m     31\u001b[0m \u001b[0;32mdef\u001b[0m \u001b[0m_sum\u001b[0m\u001b[0;34m(\u001b[0m\u001b[0ma\u001b[0m\u001b[0;34m,\u001b[0m \u001b[0maxis\u001b[0m\u001b[0;34m=\u001b[0m\u001b[0;32mNone\u001b[0m\u001b[0;34m,\u001b[0m \u001b[0mdtype\u001b[0m\u001b[0;34m=\u001b[0m\u001b[0;32mNone\u001b[0m\u001b[0;34m,\u001b[0m \u001b[0mout\u001b[0m\u001b[0;34m=\u001b[0m\u001b[0;32mNone\u001b[0m\u001b[0;34m,\u001b[0m \u001b[0mkeepdims\u001b[0m\u001b[0;34m=\u001b[0m\u001b[0;32mFalse\u001b[0m\u001b[0;34m)\u001b[0m\u001b[0;34m:\u001b[0m\u001b[0;34m\u001b[0m\u001b[0m\n",
      "\u001b[0;31mTypeError\u001b[0m: unorderable types: NoneType() <= NoneType()"
     ]
    },
    {
     "data": {
      "image/png": "[encoded data removed]",
      "text/plain": [
       "<matplotlib.figure.Figure at 0x7f89d1c1ee48>"
      ]
     },
     "metadata": {},
     "output_type": "display_data"
    }
   ],
   "source": [
    "aux.plot_perf(estim)"
   ]
  },
  {
   "cell_type": "markdown",
   "metadata": {
    "collapsed": true
   },
   "source": [
    "### Intermediate results"
   ]
  },
  {
   "cell_type": "code",
   "execution_count": 23,
   "metadata": {
    "collapsed": true
   },
   "outputs": [],
   "source": [
    "estim_iter = estimator.hyperopt_estimator(classifier=components.any_classifier('clf'),algo=tpe.suggest, trial_timeout=300)"
   ]
  },
  {
   "cell_type": "code",
   "execution_count": 24,
   "metadata": {
    "collapsed": false
   },
   "outputs": [
    {
     "name": "stderr",
     "output_type": "stream",
     "text": [
      "Trial 1 loss: 0.3446133333333333\n",
      "Trial 2 loss: None\n",
      "Trial 3 loss: None\n",
      "Trial 4 loss: None\n",
      "Trial 5 loss: 0.3711466666666666\n",
      "Trial 6 loss: 0.22255999999999998\n",
      "Trial 7 loss: 0.3464533333333333\n",
      "Trial 8 loss: 0.48461333333333334\n",
      "Trial 9 loss: 0.6553866666666667\n",
      "Trial 10 loss: 0.3447733333333334\n",
      "Test accuracy: 0.7724\n",
      "Predict: [0 0 0 ..., 1 0 0]\n",
      "Best Model: {'learner': RandomForestClassifier(bootstrap=True, class_weight=None, criterion='entropy',\n",
      "            max_depth=3, max_features=0.1435445716834276,\n",
      "            max_leaf_nodes=None, min_samples_leaf=1, min_samples_split=2,\n",
      "            min_weight_fraction_leaf=0.0, n_estimators=135, n_jobs=1,\n",
      "            oob_score=False, random_state=4, verbose=False,\n",
      "            warm_start=False), 'preprocs': (), 'ex_preprocs': ()}\n",
      "====End of demo====\n"
     ]
    }
   ],
   "source": [
    "predictions, accuracies = aux.fit_intermediate(estim_iter, np.ascontiguousarray(X_train), np.ascontiguousarray(y_train),\\\n",
    "                                              X_test, y_test)"
   ]
  },
  {
   "cell_type": "code",
   "execution_count": 25,
   "metadata": {
    "collapsed": false
   },
   "outputs": [
    {
     "data": {
      "text/plain": [
       "[(0.77311466666666662,\n",
       "  0.77239999999999998,\n",
       "  1.0,\n",
       "  0.66081599999999996,\n",
       "  0.79577268041733695),\n",
       " (0.77311466666666662,\n",
       "  0.77239999999999998,\n",
       "  1.0,\n",
       "  0.66081599999999996,\n",
       "  0.79577268041733695),\n",
       " (0.77311466666666662,\n",
       "  0.77239999999999998,\n",
       "  1.0,\n",
       "  0.66081599999999996,\n",
       "  0.79577268041733695),\n",
       " (0.77311466666666662,\n",
       "  0.77239999999999998,\n",
       "  1.0,\n",
       "  0.66081599999999996,\n",
       "  0.79577268041733695),\n",
       " (0.77311466666666662,\n",
       "  0.77239999999999998,\n",
       "  1.0,\n",
       "  0.66081599999999996,\n",
       "  0.79577268041733695),\n",
       " (0.77311466666666662,\n",
       "  0.77239999999999998,\n",
       "  0.94828212391951772,\n",
       "  0.76413548210871352,\n",
       "  0.84630760088595969),\n",
       " (0.77311466666666662,\n",
       "  0.77239999999999998,\n",
       "  0.94828212391951772,\n",
       "  0.76413548210871352,\n",
       "  0.84630760088595969),\n",
       " (0.77311466666666662,\n",
       "  0.77239999999999998,\n",
       "  0.94828212391951772,\n",
       "  0.76413548210871352,\n",
       "  0.84630760088595969),\n",
       " (0.77311466666666662,\n",
       "  0.77239999999999998,\n",
       "  0.94828212391951772,\n",
       "  0.76413548210871352,\n",
       "  0.84630760088595969)]"
      ]
     },
     "execution_count": 25,
     "metadata": {},
     "output_type": "execute_result"
    }
   ],
   "source": [
    "metrics_iter = []\n",
    "for i in range(0, len(predictions)-1):\n",
    "    y = predictions[i]\n",
    "    metrics_iter.append(aux.metrics(estim_iter, X_train, y_train, X_test, y_test, y))\n",
    "metrics_iter"
   ]
  },
  {
   "cell_type": "code",
   "execution_count": 26,
   "metadata": {
    "collapsed": false
   },
   "outputs": [
    {
     "data": {
      "text/plain": [
       "[array([0, 0, 0, ..., 0, 0, 0]),\n",
       " array([0, 0, 0, ..., 0, 0, 0]),\n",
       " array([0, 0, 0, ..., 0, 0, 0]),\n",
       " array([0, 0, 0, ..., 0, 0, 0]),\n",
       " array([0, 0, 0, ..., 0, 0, 0]),\n",
       " array([0, 0, 0, ..., 1, 0, 0]),\n",
       " array([0, 0, 0, ..., 1, 0, 0]),\n",
       " array([0, 0, 0, ..., 1, 0, 0]),\n",
       " array([0, 0, 0, ..., 1, 0, 0]),\n",
       " array([0, 0, 0, ..., 1, 0, 0])]"
      ]
     },
     "execution_count": 26,
     "metadata": {},
     "output_type": "execute_result"
    }
   ],
   "source": [
    "predictions"
   ]
  },
  {
   "cell_type": "code",
   "execution_count": 27,
   "metadata": {
    "collapsed": false
   },
   "outputs": [
    {
     "data": {
      "text/plain": [
       "[0.66081599999999996,\n",
       " 0.66081599999999996,\n",
       " 0.66081599999999996,\n",
       " 0.66081599999999996,\n",
       " 0.66081599999999996,\n",
       " 0.77239999999999998,\n",
       " 0.77239999999999998,\n",
       " 0.77239999999999998,\n",
       " 0.77239999999999998,\n",
       " 0.77239999999999998]"
      ]
     },
     "execution_count": 27,
     "metadata": {},
     "output_type": "execute_result"
    }
   ],
   "source": [
    "accuracies"
   ]
  },
  {
   "cell_type": "code",
   "execution_count": 31,
   "metadata": {
    "collapsed": false
   },
   "outputs": [
    {
     "data": {
      "image/png": "[encoded data removed]",
      "text/plain": [
       "<matplotlib.figure.Figure at 0x7f89d1f4c2e8>"
      ]
     },
     "metadata": {},
     "output_type": "display_data"
    }
   ],
   "source": [
    "plt.plot(accuracies)\n",
    "plt.show()"
   ]
  },
  {
   "cell_type": "code",
   "execution_count": null,
   "metadata": {
    "collapsed": true
   },
   "outputs": [],
   "source": []
  }
 ],
 "metadata": {
  "kernelspec": {
   "display_name": "Python 3",
   "language": "python",
   "name": "python3"
  },
  "language_info": {
   "codemirror_mode": {
    "name": "ipython",
    "version": 3
   },
   "file_extension": ".py",
   "mimetype": "text/x-python",
   "name": "python",
   "nbconvert_exporter": "python",
   "pygments_lexer": "ipython3",
   "version": "3.5.2"
  }
 },
 "nbformat": 4,
 "nbformat_minor": 0
}
