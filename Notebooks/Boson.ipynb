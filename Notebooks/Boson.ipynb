{
 "cells": [
  {
   "cell_type": "code",
   "execution_count": 2,
   "metadata": {
    "collapsed": false
   },
   "outputs": [
    {
     "name": "stdout",
     "output_type": "stream",
     "text": [
      "WARN: OMP_NUM_THREADS=None =>\n",
      "... If you are using openblas if you are using openblas set OMP_NUM_THREADS=1 or risk subprocess calls hanging indefinitely\n"
     ]
    }
   ],
   "source": [
    "from hpsklearn import estimator, components\n",
    "import numpy as np\n",
    "from hyperopt import tpe\n",
    "import sklearn.metrics\n",
    "import sklearn.cross_validation\n",
    "import pandas as pd\n",
    "from sklearn.preprocessing import LabelEncoder\n",
    "import fonctions_auxiliaires as aux"
   ]
  },
  {
   "cell_type": "code",
   "execution_count": 5,
   "metadata": {
    "collapsed": false
   },
   "outputs": [],
   "source": [
    "dataTrain = pd.read_csv('train_boson.csv', delimiter=',')\n",
    "dataTest = pd.read_csv('test_boson.csv', delimiter=',')"
   ]
  },
  {
   "cell_type": "code",
   "execution_count": 6,
   "metadata": {
    "collapsed": false
   },
   "outputs": [],
   "source": [
    "y = dataTrain[\"Prediction\"]\n",
    "del dataTrain[\"Prediction\"]\n",
    "X = dataTrain"
   ]
  },
  {
   "cell_type": "code",
   "execution_count": 7,
   "metadata": {
    "collapsed": false
   },
   "outputs": [],
   "source": [
    "le = LabelEncoder()\n",
    "y = le.fit_transform(y)"
   ]
  },
  {
   "cell_type": "code",
   "execution_count": 8,
   "metadata": {
    "collapsed": true
   },
   "outputs": [],
   "source": [
    "X_train, X_test, y_train, y_test = \\\n",
    "    sklearn.cross_validation.train_test_split(X, y, random_state=1)"
   ]
  },
  {
   "cell_type": "code",
   "execution_count": 9,
   "metadata": {
    "collapsed": false
   },
   "outputs": [],
   "source": [
    "estim = estimator.hyperopt_estimator(classifier=components.any_classifier('clf'),algo=tpe.suggest, trial_timeout=120, \\\n",
    "                                    fit_increment = 1, fit_increment_dump_filename='boson_logfile')"
   ]
  },
  {
   "cell_type": "code",
   "execution_count": 10,
   "metadata": {
    "collapsed": false
   },
   "outputs": [],
   "source": [
    "estim.fit(np.ascontiguousarray(X_train),np.ascontiguousarray(y_train))"
   ]
  },
  {
   "cell_type": "code",
   "execution_count": 11,
   "metadata": {
    "collapsed": true
   },
   "outputs": [],
   "source": [
    "y = estim.predict(X_test)\n",
    "metrics_boson = aux.metrics(estim, X_train, y_train, X_test, y_test, y)"
   ]
  },
  {
   "cell_type": "code",
   "execution_count": 14,
   "metadata": {
    "collapsed": false
   },
   "outputs": [
    {
     "data": {
      "text/plain": [
       "(0.73188799999999998,\n",
       " 0.61508799999999997,\n",
       " 0.83448342655141527,\n",
       " 0.66681499825871604,\n",
       " 0.7412864163807843)"
      ]
     },
     "execution_count": 14,
     "metadata": {},
     "output_type": "execute_result"
    }
   ],
   "source": [
    "metrics_boson"
   ]
  },
  {
   "cell_type": "code",
   "execution_count": 15,
   "metadata": {
    "collapsed": false
   },
   "outputs": [
    {
     "data": {
      "text/plain": [
       "{'clf': [2, 4, 2, 1, 2, 6, 1, 2, 3, 2],\n",
       " 'clf.ada_boost.ada_boost_algo': [1],\n",
       " 'clf.ada_boost.ada_boost_learning_rate': [0.006504285809789653],\n",
       " 'clf.ada_boost.ada_boost_n_estimators': [23.0],\n",
       " 'clf.ada_boost.ada_boost_rstate': [0],\n",
       " 'clf.extra_trees.etc_bootstrap': [1],\n",
       " 'clf.extra_trees.etc_criterion': [1],\n",
       " 'clf.extra_trees.etc_max_depth': [0],\n",
       " 'clf.extra_trees.etc_max_features': [2],\n",
       " 'clf.extra_trees.etc_max_features.frac': [],\n",
       " 'clf.extra_trees.etc_min_samples_leaf': [0],\n",
       " 'clf.extra_trees.etc_min_samples_leaf.gt1': [],\n",
       " 'clf.extra_trees.etc_n_estimators': [2015.0],\n",
       " 'clf.extra_trees.etc_rstate': [2],\n",
       " 'clf.grad_boosting.gradient_boosting_learning_rate': [],\n",
       " 'clf.grad_boosting.gradient_boosting_max_depth': [],\n",
       " 'clf.grad_boosting.gradient_boosting_max_features': [],\n",
       " 'clf.grad_boosting.gradient_boosting_max_features.frac': [],\n",
       " 'clf.grad_boosting.gradient_boosting_min_samples_leaf': [],\n",
       " 'clf.grad_boosting.gradient_boosting_min_samples_leaf.gt1': [],\n",
       " 'clf.grad_boosting.gradient_boosting_n_estimators': [],\n",
       " 'clf.grad_boosting.gradient_boosting_rstate': [],\n",
       " 'clf.grad_boosting.gradient_boosting_subsample': [],\n",
       " 'clf.grad_boosting.gradient_boosting_subsample.sgb': [],\n",
       " 'clf.knn.knc_metric_p': [0, 0],\n",
       " 'clf.knn.knc_metric_p.p': [],\n",
       " 'clf.knn.knc_neighbors': [20.0, 1.0],\n",
       " 'clf.knn.knc_weights': [0, 0],\n",
       " 'clf.random_forest.rfc_bootstrap': [0, 1, 1, 1, 1],\n",
       " 'clf.random_forest.rfc_criterion': [1, 0, 0, 1, 1],\n",
       " 'clf.random_forest.rfc_max_depth': [0, 0, 0, 0, 0],\n",
       " 'clf.random_forest.rfc_max_features': [3, 0, 2, 3, 3],\n",
       " 'clf.random_forest.rfc_max_features.frac': [0.3444969002200826,\n",
       "  0.15328722487269164,\n",
       "  0.15921016158932888],\n",
       " 'clf.random_forest.rfc_min_samples_leaf': [1, 1, 1, 1, 0],\n",
       " 'clf.random_forest.rfc_min_samples_leaf.gt1': [18.0, 2.0, 2.0, 33.0],\n",
       " 'clf.random_forest.rfc_n_estimators': [11.0, 380.0, 355.0, 116.0, 17.0],\n",
       " 'clf.random_forest.rfc_rstate': [0, 0, 3, 0, 0],\n",
       " 'clf.sgd.sgdc_alpha': [0.02504236539596921],\n",
       " 'clf.sgd.sgdc_clsweight': [1],\n",
       " 'clf.sgd.sgdc_eta0': [0.008782614628180167],\n",
       " 'clf.sgd.sgdc_l1ratio': [0.6000705943587087],\n",
       " 'clf.sgd.sgdc_learning_rate': [0],\n",
       " 'clf.sgd.sgdc_loss': [1],\n",
       " 'clf.sgd.sgdc_penalty': [2],\n",
       " 'clf.sgd.sgdc_power_t': [0.7984784370937077],\n",
       " 'clf.sgd.sgdc_rstate': [0],\n",
       " 'clf.svc.kernel': [],\n",
       " 'clf.svc.linear_C': [],\n",
       " 'clf.svc.linear_maxiter': [],\n",
       " 'clf.svc.linear_rstate': [],\n",
       " 'clf.svc.linear_shrinking': [],\n",
       " 'clf.svc.linear_tol': [],\n",
       " 'clf.svc.poly_C': [],\n",
       " 'clf.svc.poly_coef0': [],\n",
       " 'clf.svc.poly_coef0val': [],\n",
       " 'clf.svc.poly_degree': [],\n",
       " 'clf.svc.poly_gamma': [],\n",
       " 'clf.svc.poly_maxiter': [],\n",
       " 'clf.svc.poly_rstate': [],\n",
       " 'clf.svc.poly_shrinking': [],\n",
       " 'clf.svc.poly_tol': [],\n",
       " 'clf.svc.rbf_C': [],\n",
       " 'clf.svc.rbf_gamma': [],\n",
       " 'clf.svc.rbf_maxiter': [],\n",
       " 'clf.svc.rbf_rstate': [],\n",
       " 'clf.svc.rbf_shrinking': [],\n",
       " 'clf.svc.rbf_tol': [],\n",
       " 'clf.svc.sigmoid_C': [],\n",
       " 'clf.svc.sigmoid_coef0': [],\n",
       " 'clf.svc.sigmoid_coef0val': [],\n",
       " 'clf.svc.sigmoid_gamma': [],\n",
       " 'clf.svc.sigmoid_maxiter': [],\n",
       " 'clf.svc.sigmoid_rstate': [],\n",
       " 'clf.svc.sigmoid_shrinking': [],\n",
       " 'clf.svc.sigmoid_tol': [],\n",
       " 'preprocessing': [4, 3, 3, 0, 3, 3, 0, 3, 3, 0],\n",
       " 'preprocessing.min_max_scaler.feature_min': [],\n",
       " 'preprocessing.normalizer.norm': [0, 0, 1, 1, 1, 0],\n",
       " 'preprocessing.pca.n_components': [7.0, 17.0, 22.0],\n",
       " 'preprocessing.pca.whiten': [0, 1, 1],\n",
       " 'preprocessing.standard_scaler.with_mean': [],\n",
       " 'preprocessing.standard_scaler.with_std': []}"
      ]
     },
     "execution_count": 15,
     "metadata": {},
     "output_type": "execute_result"
    }
   ],
   "source": [
    "estim.trials.vals"
   ]
  },
  {
   "cell_type": "code",
   "execution_count": 12,
   "metadata": {
    "collapsed": false
   },
   "outputs": [
    {
     "name": "stdout",
     "output_type": "stream",
     "text": [
      "{'ex_preprocs': (), 'preprocs': (PCA(copy=True, n_components=28, whiten=False),), 'learner': KNeighborsClassifier(algorithm='auto', leaf_size=30, metric='euclidean',\n",
      "           metric_params=None, n_jobs=1, n_neighbors=20, p=2,\n",
      "           weights='uniform')}\n"
     ]
    }
   ],
   "source": [
    "print(estim.best_model()) "
   ]
  },
  {
   "cell_type": "code",
   "execution_count": null,
   "metadata": {
    "collapsed": false
   },
   "outputs": [],
   "source": [
    "print(y)"
   ]
  },
  {
   "cell_type": "code",
   "execution_count": 13,
   "metadata": {
    "collapsed": false
   },
   "outputs": [
    {
     "ename": "TypeError",
     "evalue": "unorderable types: NoneType() <= NoneType()",
     "output_type": "error",
     "traceback": [
      "\u001b[0;31m---------------------------------------------------------------------------\u001b[0m",
      "\u001b[0;31mAttributeError\u001b[0m                            Traceback (most recent call last)",
      "\u001b[0;32m/home/selma/.local/lib/python3.5/site-packages/numpy/core/fromnumeric.py\u001b[0m in \u001b[0;36mamin\u001b[0;34m(a, axis, out, keepdims)\u001b[0m\n\u001b[1;32m   2389\u001b[0m         \u001b[0;32mtry\u001b[0m\u001b[0;34m:\u001b[0m\u001b[0;34m\u001b[0m\u001b[0m\n\u001b[0;32m-> 2390\u001b[0;31m             \u001b[0mamin\u001b[0m \u001b[0;34m=\u001b[0m \u001b[0ma\u001b[0m\u001b[0;34m.\u001b[0m\u001b[0mmin\u001b[0m\u001b[0;34m\u001b[0m\u001b[0m\n\u001b[0m\u001b[1;32m   2391\u001b[0m         \u001b[0;32mexcept\u001b[0m \u001b[0mAttributeError\u001b[0m\u001b[0;34m:\u001b[0m\u001b[0;34m\u001b[0m\u001b[0m\n",
      "\u001b[0;31mAttributeError\u001b[0m: 'list' object has no attribute 'min'",
      "\nDuring handling of the above exception, another exception occurred:\n",
      "\u001b[0;31mTypeError\u001b[0m                                 Traceback (most recent call last)",
      "\u001b[0;32m<ipython-input-13-4c6b113e1656>\u001b[0m in \u001b[0;36m<module>\u001b[0;34m()\u001b[0m\n\u001b[1;32m      7\u001b[0m \u001b[0mdemo_support\u001b[0m\u001b[0;34m.\u001b[0m\u001b[0mscatter_error_vs_time\u001b[0m\u001b[0;34m(\u001b[0m\u001b[0mestim\u001b[0m\u001b[0;34m,\u001b[0m \u001b[0max\u001b[0m\u001b[0;34m)\u001b[0m\u001b[0;34m\u001b[0m\u001b[0m\n\u001b[1;32m      8\u001b[0m \u001b[0max2\u001b[0m \u001b[0;34m=\u001b[0m \u001b[0mfig\u001b[0m\u001b[0;34m.\u001b[0m\u001b[0madd_subplot\u001b[0m\u001b[0;34m(\u001b[0m\u001b[0;36m111\u001b[0m\u001b[0;34m)\u001b[0m\u001b[0;34m\u001b[0m\u001b[0m\n\u001b[0;32m----> 9\u001b[0;31m \u001b[0mdemo_support\u001b[0m\u001b[0;34m.\u001b[0m\u001b[0mplot_minvalid_vs_time\u001b[0m\u001b[0;34m(\u001b[0m\u001b[0mestim\u001b[0m\u001b[0;34m,\u001b[0m \u001b[0max2\u001b[0m\u001b[0;34m)\u001b[0m\u001b[0;34m\u001b[0m\u001b[0m\n\u001b[0m",
      "\u001b[0;32m/home/selma/hyperopt-sklearn/hpsklearn/demo_support.py\u001b[0m in \u001b[0;36mplot_minvalid_vs_time\u001b[0;34m(estimator, ax, ylim)\u001b[0m\n\u001b[1;32m     15\u001b[0m     \u001b[0mlosses\u001b[0m \u001b[0;34m=\u001b[0m \u001b[0mestimator\u001b[0m\u001b[0;34m.\u001b[0m\u001b[0mtrials\u001b[0m\u001b[0;34m.\u001b[0m\u001b[0mlosses\u001b[0m\u001b[0;34m(\u001b[0m\u001b[0;34m)\u001b[0m\u001b[0;34m\u001b[0m\u001b[0m\n\u001b[1;32m     16\u001b[0m     \u001b[0mts\u001b[0m \u001b[0;34m=\u001b[0m \u001b[0mlist\u001b[0m\u001b[0;34m(\u001b[0m\u001b[0mrange\u001b[0m\u001b[0;34m(\u001b[0m\u001b[0;36m1\u001b[0m\u001b[0;34m,\u001b[0m \u001b[0mlen\u001b[0m\u001b[0;34m(\u001b[0m\u001b[0mlosses\u001b[0m\u001b[0;34m)\u001b[0m\u001b[0;34m)\u001b[0m\u001b[0;34m)\u001b[0m\u001b[0;34m\u001b[0m\u001b[0m\n\u001b[0;32m---> 17\u001b[0;31m     \u001b[0mmins\u001b[0m \u001b[0;34m=\u001b[0m \u001b[0;34m[\u001b[0m\u001b[0mnp\u001b[0m\u001b[0;34m.\u001b[0m\u001b[0mmin\u001b[0m\u001b[0;34m(\u001b[0m\u001b[0mlosses\u001b[0m\u001b[0;34m[\u001b[0m\u001b[0;34m:\u001b[0m\u001b[0mii\u001b[0m\u001b[0;34m]\u001b[0m\u001b[0;34m)\u001b[0m \u001b[0;32mfor\u001b[0m \u001b[0mii\u001b[0m \u001b[0;32min\u001b[0m \u001b[0mts\u001b[0m\u001b[0;34m]\u001b[0m\u001b[0;34m\u001b[0m\u001b[0m\n\u001b[0m\u001b[1;32m     18\u001b[0m     \u001b[0max\u001b[0m\u001b[0;34m.\u001b[0m\u001b[0mset_ylabel\u001b[0m\u001b[0;34m(\u001b[0m\u001b[0;34m'min(Validation error rate to-date)'\u001b[0m\u001b[0;34m)\u001b[0m\u001b[0;34m\u001b[0m\u001b[0m\n\u001b[1;32m     19\u001b[0m     \u001b[0max\u001b[0m\u001b[0;34m.\u001b[0m\u001b[0mset_xlabel\u001b[0m\u001b[0;34m(\u001b[0m\u001b[0;34m'Iteration'\u001b[0m\u001b[0;34m)\u001b[0m\u001b[0;34m\u001b[0m\u001b[0m\n",
      "\u001b[0;32m/home/selma/hyperopt-sklearn/hpsklearn/demo_support.py\u001b[0m in \u001b[0;36m<listcomp>\u001b[0;34m(.0)\u001b[0m\n\u001b[1;32m     15\u001b[0m     \u001b[0mlosses\u001b[0m \u001b[0;34m=\u001b[0m \u001b[0mestimator\u001b[0m\u001b[0;34m.\u001b[0m\u001b[0mtrials\u001b[0m\u001b[0;34m.\u001b[0m\u001b[0mlosses\u001b[0m\u001b[0;34m(\u001b[0m\u001b[0;34m)\u001b[0m\u001b[0;34m\u001b[0m\u001b[0m\n\u001b[1;32m     16\u001b[0m     \u001b[0mts\u001b[0m \u001b[0;34m=\u001b[0m \u001b[0mlist\u001b[0m\u001b[0;34m(\u001b[0m\u001b[0mrange\u001b[0m\u001b[0;34m(\u001b[0m\u001b[0;36m1\u001b[0m\u001b[0;34m,\u001b[0m \u001b[0mlen\u001b[0m\u001b[0;34m(\u001b[0m\u001b[0mlosses\u001b[0m\u001b[0;34m)\u001b[0m\u001b[0;34m)\u001b[0m\u001b[0;34m)\u001b[0m\u001b[0;34m\u001b[0m\u001b[0m\n\u001b[0;32m---> 17\u001b[0;31m     \u001b[0mmins\u001b[0m \u001b[0;34m=\u001b[0m \u001b[0;34m[\u001b[0m\u001b[0mnp\u001b[0m\u001b[0;34m.\u001b[0m\u001b[0mmin\u001b[0m\u001b[0;34m(\u001b[0m\u001b[0mlosses\u001b[0m\u001b[0;34m[\u001b[0m\u001b[0;34m:\u001b[0m\u001b[0mii\u001b[0m\u001b[0;34m]\u001b[0m\u001b[0;34m)\u001b[0m \u001b[0;32mfor\u001b[0m \u001b[0mii\u001b[0m \u001b[0;32min\u001b[0m \u001b[0mts\u001b[0m\u001b[0;34m]\u001b[0m\u001b[0;34m\u001b[0m\u001b[0m\n\u001b[0m\u001b[1;32m     18\u001b[0m     \u001b[0max\u001b[0m\u001b[0;34m.\u001b[0m\u001b[0mset_ylabel\u001b[0m\u001b[0;34m(\u001b[0m\u001b[0;34m'min(Validation error rate to-date)'\u001b[0m\u001b[0;34m)\u001b[0m\u001b[0;34m\u001b[0m\u001b[0m\n\u001b[1;32m     19\u001b[0m     \u001b[0max\u001b[0m\u001b[0;34m.\u001b[0m\u001b[0mset_xlabel\u001b[0m\u001b[0;34m(\u001b[0m\u001b[0;34m'Iteration'\u001b[0m\u001b[0;34m)\u001b[0m\u001b[0;34m\u001b[0m\u001b[0m\n",
      "\u001b[0;32m/home/selma/.local/lib/python3.5/site-packages/numpy/core/fromnumeric.py\u001b[0m in \u001b[0;36mamin\u001b[0;34m(a, axis, out, keepdims)\u001b[0m\n\u001b[1;32m   2391\u001b[0m         \u001b[0;32mexcept\u001b[0m \u001b[0mAttributeError\u001b[0m\u001b[0;34m:\u001b[0m\u001b[0;34m\u001b[0m\u001b[0m\n\u001b[1;32m   2392\u001b[0m             return _methods._amin(a, axis=axis,\n\u001b[0;32m-> 2393\u001b[0;31m                                 out=out, **kwargs)\n\u001b[0m\u001b[1;32m   2394\u001b[0m         \u001b[0;32mreturn\u001b[0m \u001b[0mamin\u001b[0m\u001b[0;34m(\u001b[0m\u001b[0maxis\u001b[0m\u001b[0;34m=\u001b[0m\u001b[0maxis\u001b[0m\u001b[0;34m,\u001b[0m \u001b[0mout\u001b[0m\u001b[0;34m=\u001b[0m\u001b[0mout\u001b[0m\u001b[0;34m,\u001b[0m \u001b[0;34m**\u001b[0m\u001b[0mkwargs\u001b[0m\u001b[0;34m)\u001b[0m\u001b[0;34m\u001b[0m\u001b[0m\n\u001b[1;32m   2395\u001b[0m     \u001b[0;32melse\u001b[0m\u001b[0;34m:\u001b[0m\u001b[0;34m\u001b[0m\u001b[0m\n",
      "\u001b[0;32m/home/selma/.local/lib/python3.5/site-packages/numpy/core/_methods.py\u001b[0m in \u001b[0;36m_amin\u001b[0;34m(a, axis, out, keepdims)\u001b[0m\n\u001b[1;32m     27\u001b[0m \u001b[0;34m\u001b[0m\u001b[0m\n\u001b[1;32m     28\u001b[0m \u001b[0;32mdef\u001b[0m \u001b[0m_amin\u001b[0m\u001b[0;34m(\u001b[0m\u001b[0ma\u001b[0m\u001b[0;34m,\u001b[0m \u001b[0maxis\u001b[0m\u001b[0;34m=\u001b[0m\u001b[0;32mNone\u001b[0m\u001b[0;34m,\u001b[0m \u001b[0mout\u001b[0m\u001b[0;34m=\u001b[0m\u001b[0;32mNone\u001b[0m\u001b[0;34m,\u001b[0m \u001b[0mkeepdims\u001b[0m\u001b[0;34m=\u001b[0m\u001b[0;32mFalse\u001b[0m\u001b[0;34m)\u001b[0m\u001b[0;34m:\u001b[0m\u001b[0;34m\u001b[0m\u001b[0m\n\u001b[0;32m---> 29\u001b[0;31m     \u001b[0;32mreturn\u001b[0m \u001b[0mumr_minimum\u001b[0m\u001b[0;34m(\u001b[0m\u001b[0ma\u001b[0m\u001b[0;34m,\u001b[0m \u001b[0maxis\u001b[0m\u001b[0;34m,\u001b[0m \u001b[0;32mNone\u001b[0m\u001b[0;34m,\u001b[0m \u001b[0mout\u001b[0m\u001b[0;34m,\u001b[0m \u001b[0mkeepdims\u001b[0m\u001b[0;34m)\u001b[0m\u001b[0;34m\u001b[0m\u001b[0m\n\u001b[0m\u001b[1;32m     30\u001b[0m \u001b[0;34m\u001b[0m\u001b[0m\n\u001b[1;32m     31\u001b[0m \u001b[0;32mdef\u001b[0m \u001b[0m_sum\u001b[0m\u001b[0;34m(\u001b[0m\u001b[0ma\u001b[0m\u001b[0;34m,\u001b[0m \u001b[0maxis\u001b[0m\u001b[0;34m=\u001b[0m\u001b[0;32mNone\u001b[0m\u001b[0;34m,\u001b[0m \u001b[0mdtype\u001b[0m\u001b[0;34m=\u001b[0m\u001b[0;32mNone\u001b[0m\u001b[0;34m,\u001b[0m \u001b[0mout\u001b[0m\u001b[0;34m=\u001b[0m\u001b[0;32mNone\u001b[0m\u001b[0;34m,\u001b[0m \u001b[0mkeepdims\u001b[0m\u001b[0;34m=\u001b[0m\u001b[0;32mFalse\u001b[0m\u001b[0;34m)\u001b[0m\u001b[0;34m:\u001b[0m\u001b[0;34m\u001b[0m\u001b[0m\n",
      "\u001b[0;31mTypeError\u001b[0m: unorderable types: NoneType() <= NoneType()"
     ]
    },
    {
     "data": {
      "image/png": "[encoded data removed]",
      "text/plain": [
       "<matplotlib.figure.Figure at 0x7f1307c3e2e8>"
      ]
     },
     "metadata": {},
     "output_type": "display_data"
    }
   ],
   "source": [
    "from hpsklearn import demo_support\n",
    "import matplotlib.pyplot as plt\n",
    "% matplotlib inline\n",
    "fig = plt.figure()\n",
    "\n",
    "ax= fig.add_subplot(111)\n",
    "demo_support.scatter_error_vs_time(estim, ax)\n",
    "ax2 = fig.add_subplot(111)\n",
    "demo_support.plot_minvalid_vs_time(estim, ax2)"
   ]
  },
  {
   "cell_type": "code",
   "execution_count": null,
   "metadata": {
    "collapsed": true
   },
   "outputs": [],
   "source": []
  }
 ],
 "metadata": {
  "kernelspec": {
   "display_name": "Python 3",
   "language": "python",
   "name": "python3"
  },
  "language_info": {
   "codemirror_mode": {
    "name": "ipython",
    "version": 3
   },
   "file_extension": ".py",
   "mimetype": "text/x-python",
   "name": "python",
   "nbconvert_exporter": "python",
   "pygments_lexer": "ipython3",
   "version": "3.5.2"
  }
 },
 "nbformat": 4,
 "nbformat_minor": 0
}
