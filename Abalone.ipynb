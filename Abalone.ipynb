{
 "cells": [
  {
   "cell_type": "code",
   "execution_count": 21,
   "metadata": {
    "collapsed": false
   },
   "outputs": [],
   "source": [
    "import pandas as pd \n",
    "import numpy as np\n",
    "from sklearn.preprocessing import LabelEncoder\n",
    "from hyperopt import tpe\n",
    "from hpsklearn import estimator, components\n",
    "import sklearn.metrics\n",
    "import sklearn.cross_validation as scv\n",
    "from sklearn.datasets import fetch_mldata\n",
    "import fonctions_auxiliaires as aux\n",
    "%matplotlib inline"
   ]
  },
  {
   "cell_type": "code",
   "execution_count": 22,
   "metadata": {
    "collapsed": false,
    "scrolled": true
   },
   "outputs": [],
   "source": [
    "abalone = fetch_mldata('abalone')\n",
    "X = abalone.data\n",
    "y = abalone.target\n"
   ]
  },
  {
   "cell_type": "code",
   "execution_count": 23,
   "metadata": {
    "collapsed": false
   },
   "outputs": [],
   "source": [
    "le = LabelEncoder()\n",
    "X[0] = le.fit_transform(X[0])"
   ]
  },
  {
   "cell_type": "code",
   "execution_count": 24,
   "metadata": {
    "collapsed": true
   },
   "outputs": [],
   "source": [
    "X_train, X_test, y_train, y_test = scv.train_test_split(X, y, random_state=1)"
   ]
  },
  {
   "cell_type": "code",
   "execution_count": 25,
   "metadata": {
    "collapsed": false
   },
   "outputs": [],
   "source": [
    "estim = estimator.hyperopt_estimator(classifier=components.any_classifier('clf'),algo=tpe.suggest, trial_timeout=120)"
   ]
  },
  {
   "cell_type": "code",
   "execution_count": 27,
   "metadata": {
    "collapsed": false
   },
   "outputs": [],
   "source": [
    "estim.fit(np.ascontiguousarray(X_train), y_train)"
   ]
  },
  {
   "cell_type": "code",
   "execution_count": 30,
   "metadata": {
    "collapsed": false
   },
   "outputs": [
    {
     "name": "stderr",
     "output_type": "stream",
     "text": [
      "/home/selma/hp-sk/Notebooks/fonctions_auxiliaires.py:41: RuntimeWarning: invalid value encountered in long_scalars\n",
      "  precision = conf_matrix[0,0]/(conf_matrix[0,0]+conf_matrix[0,1])\n",
      "/home/selma/hp-sk/Notebooks/fonctions_auxiliaires.py:42: RuntimeWarning: invalid value encountered in long_scalars\n",
      "  recall = conf_matrix[0,0]/(conf_matrix[0,0]+conf_matrix[1,0])\n"
     ]
    }
   ],
   "source": [
    "y = estim.predict(X_test)\n",
    "metrics_aba = aux.metrics(estim, X_train, y_train, X_test, y_test, y)"
   ]
  },
  {
   "cell_type": "code",
   "execution_count": 31,
   "metadata": {
    "collapsed": false
   },
   "outputs": [
    {
     "data": {
      "text/plain": [
       "((0.25415070242656451, 0.24401913875598086, nan, nan, nan),\n",
       " array([ 7,  9,  7, ..., 10,  5, 10]))"
      ]
     },
     "execution_count": 31,
     "metadata": {},
     "output_type": "execute_result"
    }
   ],
   "source": [
    "metrics_aba, y"
   ]
  },
  {
   "cell_type": "code",
   "execution_count": 54,
   "metadata": {
    "collapsed": false
   },
   "outputs": [
    {
     "data": {
      "text/plain": [
       "1482073459.0"
      ]
     },
     "execution_count": 54,
     "metadata": {},
     "output_type": "execute_result"
    }
   ],
   "source": [
    "import time\n",
    "time.mktime(estim.trials.trials[1]['book_time'].timetuple())"
   ]
  },
  {
   "cell_type": "code",
   "execution_count": 52,
   "metadata": {
    "collapsed": false
   },
   "outputs": [
    {
     "ename": "AttributeError",
     "evalue": "'datetime.datetime' object has no attribute 'mktime'",
     "output_type": "error",
     "traceback": [
      "\u001b[0;31m---------------------------------------------------------------------------\u001b[0m",
      "\u001b[0;31mAttributeError\u001b[0m                            Traceback (most recent call last)",
      "\u001b[0;32m<ipython-input-52-b6a3ca067f30>\u001b[0m in \u001b[0;36m<module>\u001b[0;34m()\u001b[0m\n\u001b[1;32m      1\u001b[0m \u001b[0;32mimport\u001b[0m \u001b[0mfonctions_auxiliaires\u001b[0m \u001b[0;32mas\u001b[0m \u001b[0maux\u001b[0m\u001b[0;34m\u001b[0m\u001b[0m\n\u001b[0;32m----> 2\u001b[0;31m \u001b[0maux\u001b[0m\u001b[0;34m.\u001b[0m\u001b[0mtime_retriever\u001b[0m\u001b[0;34m(\u001b[0m\u001b[0mestim\u001b[0m\u001b[0;34m)\u001b[0m\u001b[0;34m\u001b[0m\u001b[0m\n\u001b[0m",
      "\u001b[0;32m/home/selma/hp-sk/Notebooks/fonctions_auxiliaires.py\u001b[0m in \u001b[0;36mtime_retriever\u001b[0;34m(estimator)\u001b[0m\n\u001b[1;32m     16\u001b[0m         \u001b[0mbook_time\u001b[0m \u001b[0;34m=\u001b[0m \u001b[0mclassifier_values\u001b[0m\u001b[0;34m[\u001b[0m\u001b[0mi\u001b[0m\u001b[0;34m]\u001b[0m\u001b[0;34m[\u001b[0m\u001b[0;34m'book_time'\u001b[0m\u001b[0;34m]\u001b[0m\u001b[0;34m\u001b[0m\u001b[0m\n\u001b[1;32m     17\u001b[0m         \u001b[0mtimestamp\u001b[0m\u001b[0;34m[\u001b[0m\u001b[0;34m'i'\u001b[0m\u001b[0;34m]\u001b[0m \u001b[0;34m=\u001b[0m \u001b[0mtime\u001b[0m\u001b[0;34m.\u001b[0m\u001b[0mmktime\u001b[0m\u001b[0;34m(\u001b[0m\u001b[0mbook_time\u001b[0m\u001b[0;34m.\u001b[0m\u001b[0mtimetuple\u001b[0m\u001b[0;34m(\u001b[0m\u001b[0;34m)\u001b[0m\u001b[0;34m)\u001b[0m\u001b[0;34m\u001b[0m\u001b[0m\n\u001b[0;32m---> 18\u001b[0;31m \u001b[0;34m\u001b[0m\u001b[0m\n\u001b[0m\u001b[1;32m     19\u001b[0m     \u001b[0;32mreturn\u001b[0m \u001b[0mtimestamp\u001b[0m\u001b[0;34m\u001b[0m\u001b[0m\n\u001b[1;32m     20\u001b[0m \u001b[0;34m\u001b[0m\u001b[0m\n",
      "\u001b[0;31mAttributeError\u001b[0m: 'datetime.datetime' object has no attribute 'mktime'"
     ]
    }
   ],
   "source": [
    "import fonctions_auxiliaires as aux\n",
    "aux.time_retriever(estim)"
   ]
  },
  {
   "cell_type": "code",
   "execution_count": 63,
   "metadata": {
    "collapsed": false
   },
   "outputs": [
    {
     "name": "stdout",
     "output_type": "stream",
     "text": [
      "{'preprocs': (StandardScaler(copy=True, with_mean=False, with_std=False),), 'learner': RandomForestClassifier(bootstrap=True, class_weight=None, criterion='gini',\n",
      "            max_depth=2, max_features=0.7476810861691092,\n",
      "            max_leaf_nodes=None, min_samples_leaf=1, min_samples_split=2,\n",
      "            min_weight_fraction_leaf=0.0, n_estimators=1193, n_jobs=1,\n",
      "            oob_score=False, random_state=0, verbose=False,\n",
      "            warm_start=False), 'ex_preprocs': ()}\n"
     ]
    }
   ],
   "source": [
    "print(estim.best_model())"
   ]
  },
  {
   "cell_type": "code",
   "execution_count": 64,
   "metadata": {
    "collapsed": false,
    "scrolled": true
   },
   "outputs": [
    {
     "data": {
      "text/plain": [
       "{'clf': [6, 6, 5, 0, 1, 6, 3, 1, 6, 2],\n",
       " 'clf.ada_boost.ada_boost_algo': [],\n",
       " 'clf.ada_boost.ada_boost_learning_rate': [],\n",
       " 'clf.ada_boost.ada_boost_n_estimators': [],\n",
       " 'clf.ada_boost.ada_boost_rstate': [],\n",
       " 'clf.extra_trees.etc_bootstrap': [0],\n",
       " 'clf.extra_trees.etc_criterion': [0],\n",
       " 'clf.extra_trees.etc_max_depth': [0],\n",
       " 'clf.extra_trees.etc_max_features': [3],\n",
       " 'clf.extra_trees.etc_max_features.frac': [0.5536399652828662],\n",
       " 'clf.extra_trees.etc_min_samples_leaf': [1],\n",
       " 'clf.extra_trees.etc_min_samples_leaf.gt1': [13.0],\n",
       " 'clf.extra_trees.etc_n_estimators': [19.0],\n",
       " 'clf.extra_trees.etc_rstate': [2],\n",
       " 'clf.grad_boosting.gradient_boosting_learning_rate': [0.060123427019147906],\n",
       " 'clf.grad_boosting.gradient_boosting_max_depth': [0],\n",
       " 'clf.grad_boosting.gradient_boosting_max_features': [3],\n",
       " 'clf.grad_boosting.gradient_boosting_max_features.frac': [0.6241201550035962],\n",
       " 'clf.grad_boosting.gradient_boosting_min_samples_leaf': [0],\n",
       " 'clf.grad_boosting.gradient_boosting_min_samples_leaf.gt1': [],\n",
       " 'clf.grad_boosting.gradient_boosting_n_estimators': [18.0],\n",
       " 'clf.grad_boosting.gradient_boosting_rstate': [4],\n",
       " 'clf.grad_boosting.gradient_boosting_subsample': [1],\n",
       " 'clf.grad_boosting.gradient_boosting_subsample.sgb': [0.5355315835149457],\n",
       " 'clf.knn.knc_metric_p': [2, 0],\n",
       " 'clf.knn.knc_metric_p.p': [],\n",
       " 'clf.knn.knc_neighbors': [21.0, 1.0],\n",
       " 'clf.knn.knc_weights': [1, 0],\n",
       " 'clf.random_forest.rfc_bootstrap': [0],\n",
       " 'clf.random_forest.rfc_criterion': [0],\n",
       " 'clf.random_forest.rfc_max_depth': [1],\n",
       " 'clf.random_forest.rfc_max_features': [3],\n",
       " 'clf.random_forest.rfc_max_features.frac': [0.7476810861691092],\n",
       " 'clf.random_forest.rfc_min_samples_leaf': [0],\n",
       " 'clf.random_forest.rfc_min_samples_leaf.gt1': [],\n",
       " 'clf.random_forest.rfc_n_estimators': [1193.0],\n",
       " 'clf.random_forest.rfc_rstate': [0],\n",
       " 'clf.sgd.sgdc_alpha': [0.00026455158125560915,\n",
       "  1.1238936007327735e-05,\n",
       "  0.058056197372515196,\n",
       "  1.1506663658101987e-05],\n",
       " 'clf.sgd.sgdc_clsweight': [0, 1, 0, 0],\n",
       " 'clf.sgd.sgdc_eta0': [0.0006583047746309696,\n",
       "  0.00012933512901420642,\n",
       "  1.528285077214241e-05,\n",
       "  0.00020147182227818778],\n",
       " 'clf.sgd.sgdc_l1ratio': [0.12183469056789376,\n",
       "  0.021535363850699984,\n",
       "  0.4049230978647542,\n",
       "  0.9445141502430637],\n",
       " 'clf.sgd.sgdc_learning_rate': [0, 0, 0, 2],\n",
       " 'clf.sgd.sgdc_loss': [7, 2, 6, 2],\n",
       " 'clf.sgd.sgdc_penalty': [2, 0, 1, 0],\n",
       " 'clf.sgd.sgdc_power_t': [0.02226340069668531,\n",
       "  0.9249673386374258,\n",
       "  0.39082147324828853,\n",
       "  0.7678218790272497],\n",
       " 'clf.sgd.sgdc_rstate': [2, 2, 3, 4],\n",
       " 'clf.svc.kernel': [3],\n",
       " 'clf.svc.linear_C': [],\n",
       " 'clf.svc.linear_maxiter': [],\n",
       " 'clf.svc.linear_rstate': [],\n",
       " 'clf.svc.linear_shrinking': [],\n",
       " 'clf.svc.linear_tol': [],\n",
       " 'clf.svc.poly_C': [],\n",
       " 'clf.svc.poly_coef0': [],\n",
       " 'clf.svc.poly_coef0val': [],\n",
       " 'clf.svc.poly_degree': [],\n",
       " 'clf.svc.poly_gamma': [],\n",
       " 'clf.svc.poly_maxiter': [],\n",
       " 'clf.svc.poly_rstate': [],\n",
       " 'clf.svc.poly_shrinking': [],\n",
       " 'clf.svc.poly_tol': [],\n",
       " 'clf.svc.rbf_C': [],\n",
       " 'clf.svc.rbf_gamma': [],\n",
       " 'clf.svc.rbf_maxiter': [],\n",
       " 'clf.svc.rbf_rstate': [],\n",
       " 'clf.svc.rbf_shrinking': [],\n",
       " 'clf.svc.rbf_tol': [],\n",
       " 'clf.svc.sigmoid_C': [3.3360262484273546],\n",
       " 'clf.svc.sigmoid_coef0': [0],\n",
       " 'clf.svc.sigmoid_coef0val': [],\n",
       " 'clf.svc.sigmoid_gamma': [40.88679949446737],\n",
       " 'clf.svc.sigmoid_maxiter': [104366925.0],\n",
       " 'clf.svc.sigmoid_rstate': [4],\n",
       " 'clf.svc.sigmoid_shrinking': [0],\n",
       " 'clf.svc.sigmoid_tol': [0.004642470633542215],\n",
       " 'preprocessing': [2, 1, 3, 4, 4, 2, 2, 0, 0, 1],\n",
       " 'preprocessing.min_max_scaler.feature_min': [1, 0, 1],\n",
       " 'preprocessing.normalizer.norm': [0],\n",
       " 'preprocessing.pca.n_components': [21.0, 3.0],\n",
       " 'preprocessing.pca.whiten': [0, 1],\n",
       " 'preprocessing.standard_scaler.with_mean': [1, 0],\n",
       " 'preprocessing.standard_scaler.with_std': [0, 0]}"
      ]
     },
     "execution_count": 64,
     "metadata": {},
     "output_type": "execute_result"
    }
   ],
   "source": [
    "estim.trials.vals"
   ]
  },
  {
   "cell_type": "code",
   "execution_count": 65,
   "metadata": {
    "collapsed": false,
    "scrolled": true
   },
   "outputs": [
    {
     "data": {
      "text/plain": [
       "{'clf': [2],\n",
       " 'clf.ada_boost.ada_boost_algo': [],\n",
       " 'clf.ada_boost.ada_boost_learning_rate': [],\n",
       " 'clf.ada_boost.ada_boost_n_estimators': [],\n",
       " 'clf.ada_boost.ada_boost_rstate': [],\n",
       " 'clf.extra_trees.etc_bootstrap': [],\n",
       " 'clf.extra_trees.etc_criterion': [],\n",
       " 'clf.extra_trees.etc_max_depth': [],\n",
       " 'clf.extra_trees.etc_max_features': [],\n",
       " 'clf.extra_trees.etc_max_features.frac': [],\n",
       " 'clf.extra_trees.etc_min_samples_leaf': [],\n",
       " 'clf.extra_trees.etc_min_samples_leaf.gt1': [],\n",
       " 'clf.extra_trees.etc_n_estimators': [],\n",
       " 'clf.extra_trees.etc_rstate': [],\n",
       " 'clf.grad_boosting.gradient_boosting_learning_rate': [],\n",
       " 'clf.grad_boosting.gradient_boosting_max_depth': [],\n",
       " 'clf.grad_boosting.gradient_boosting_max_features': [],\n",
       " 'clf.grad_boosting.gradient_boosting_max_features.frac': [],\n",
       " 'clf.grad_boosting.gradient_boosting_min_samples_leaf': [],\n",
       " 'clf.grad_boosting.gradient_boosting_min_samples_leaf.gt1': [],\n",
       " 'clf.grad_boosting.gradient_boosting_n_estimators': [],\n",
       " 'clf.grad_boosting.gradient_boosting_rstate': [],\n",
       " 'clf.grad_boosting.gradient_boosting_subsample': [],\n",
       " 'clf.grad_boosting.gradient_boosting_subsample.sgb': [],\n",
       " 'clf.knn.knc_metric_p': [],\n",
       " 'clf.knn.knc_metric_p.p': [],\n",
       " 'clf.knn.knc_neighbors': [],\n",
       " 'clf.knn.knc_weights': [],\n",
       " 'clf.random_forest.rfc_bootstrap': [0],\n",
       " 'clf.random_forest.rfc_criterion': [0],\n",
       " 'clf.random_forest.rfc_max_depth': [1],\n",
       " 'clf.random_forest.rfc_max_features': [3],\n",
       " 'clf.random_forest.rfc_max_features.frac': [0.7476810861691092],\n",
       " 'clf.random_forest.rfc_min_samples_leaf': [0],\n",
       " 'clf.random_forest.rfc_min_samples_leaf.gt1': [],\n",
       " 'clf.random_forest.rfc_n_estimators': [1193.0],\n",
       " 'clf.random_forest.rfc_rstate': [0],\n",
       " 'clf.sgd.sgdc_alpha': [],\n",
       " 'clf.sgd.sgdc_clsweight': [],\n",
       " 'clf.sgd.sgdc_eta0': [],\n",
       " 'clf.sgd.sgdc_l1ratio': [],\n",
       " 'clf.sgd.sgdc_learning_rate': [],\n",
       " 'clf.sgd.sgdc_loss': [],\n",
       " 'clf.sgd.sgdc_penalty': [],\n",
       " 'clf.sgd.sgdc_power_t': [],\n",
       " 'clf.sgd.sgdc_rstate': [],\n",
       " 'clf.svc.kernel': [],\n",
       " 'clf.svc.linear_C': [],\n",
       " 'clf.svc.linear_maxiter': [],\n",
       " 'clf.svc.linear_rstate': [],\n",
       " 'clf.svc.linear_shrinking': [],\n",
       " 'clf.svc.linear_tol': [],\n",
       " 'clf.svc.poly_C': [],\n",
       " 'clf.svc.poly_coef0': [],\n",
       " 'clf.svc.poly_coef0val': [],\n",
       " 'clf.svc.poly_degree': [],\n",
       " 'clf.svc.poly_gamma': [],\n",
       " 'clf.svc.poly_maxiter': [],\n",
       " 'clf.svc.poly_rstate': [],\n",
       " 'clf.svc.poly_shrinking': [],\n",
       " 'clf.svc.poly_tol': [],\n",
       " 'clf.svc.rbf_C': [],\n",
       " 'clf.svc.rbf_gamma': [],\n",
       " 'clf.svc.rbf_maxiter': [],\n",
       " 'clf.svc.rbf_rstate': [],\n",
       " 'clf.svc.rbf_shrinking': [],\n",
       " 'clf.svc.rbf_tol': [],\n",
       " 'clf.svc.sigmoid_C': [],\n",
       " 'clf.svc.sigmoid_coef0': [],\n",
       " 'clf.svc.sigmoid_coef0val': [],\n",
       " 'clf.svc.sigmoid_gamma': [],\n",
       " 'clf.svc.sigmoid_maxiter': [],\n",
       " 'clf.svc.sigmoid_rstate': [],\n",
       " 'clf.svc.sigmoid_shrinking': [],\n",
       " 'clf.svc.sigmoid_tol': [],\n",
       " 'preprocessing': [1],\n",
       " 'preprocessing.min_max_scaler.feature_min': [],\n",
       " 'preprocessing.normalizer.norm': [],\n",
       " 'preprocessing.pca.n_components': [],\n",
       " 'preprocessing.pca.whiten': [],\n",
       " 'preprocessing.standard_scaler.with_mean': [0],\n",
       " 'preprocessing.standard_scaler.with_std': [0]}"
      ]
     },
     "execution_count": 65,
     "metadata": {},
     "output_type": "execute_result"
    }
   ],
   "source": [
    "classifiers = estim.trials.trials[9]['misc']['vals']\n",
    "classifiers"
   ]
  },
  {
   "cell_type": "code",
   "execution_count": 66,
   "metadata": {
    "collapsed": false
   },
   "outputs": [],
   "source": [
    "dico={}\n",
    "dico['knn'] = components.knn\n",
    "ess = estimator.hyperopt_estimator(classifier= dico['knn']([0,0,0,0]))"
   ]
  },
  {
   "cell_type": "code",
   "execution_count": 67,
   "metadata": {
    "collapsed": false
   },
   "outputs": [],
   "source": [
    "ess.fit(X_train,y_train)"
   ]
  },
  {
   "cell_type": "code",
   "execution_count": 68,
   "metadata": {
    "collapsed": false,
    "scrolled": true
   },
   "outputs": [
    {
     "ename": "TypeError",
     "evalue": "list indices must be integers or slices, not str",
     "output_type": "error",
     "traceback": [
      "\u001b[0;31m---------------------------------------------------------------------------\u001b[0m",
      "\u001b[0;31mTypeError\u001b[0m                                 Traceback (most recent call last)",
      "\u001b[0;32m<ipython-input-68-b76ecba6ac45>\u001b[0m in \u001b[0;36m<module>\u001b[0;34m()\u001b[0m\n\u001b[0;32m----> 1\u001b[0;31m \u001b[0mess\u001b[0m\u001b[0;34m.\u001b[0m\u001b[0mtrials\u001b[0m\u001b[0;34m.\u001b[0m\u001b[0mtrials\u001b[0m\u001b[0;34m[\u001b[0m\u001b[0;34m'misc'\u001b[0m\u001b[0;34m]\u001b[0m\u001b[0;34m[\u001b[0m\u001b[0;34m'vals'\u001b[0m\u001b[0;34m]\u001b[0m\u001b[0;34m\u001b[0m\u001b[0m\n\u001b[0m",
      "\u001b[0;31mTypeError\u001b[0m: list indices must be integers or slices, not str"
     ]
    }
   ],
   "source": [
    "ess.trials.trials['misc']['vals']"
   ]
  },
  {
   "cell_type": "code",
   "execution_count": null,
   "metadata": {
    "collapsed": false
   },
   "outputs": [],
   "source": [
    "len(estim.trials.trials)"
   ]
  },
  {
   "cell_type": "code",
   "execution_count": null,
   "metadata": {
    "collapsed": true
   },
   "outputs": [],
   "source": []
  },
  {
   "cell_type": "code",
   "execution_count": null,
   "metadata": {
    "collapsed": false
   },
   "outputs": [],
   "source": [
    "classifiers = pd.DataFrame.from_dict(classifiers, 'index')"
   ]
  },
  {
   "cell_type": "code",
   "execution_count": null,
   "metadata": {
    "collapsed": false
   },
   "outputs": [],
   "source": [
    "classifiers.columns = ['parameters']"
   ]
  },
  {
   "cell_type": "code",
   "execution_count": null,
   "metadata": {
    "collapsed": false
   },
   "outputs": [],
   "source": [
    "classifiers.sort_index()\n",
    "classifier1 = classifiers.ix[~(classifiers.parameters.isnull())].sort_index()"
   ]
  },
  {
   "cell_type": "code",
   "execution_count": null,
   "metadata": {
    "collapsed": false
   },
   "outputs": [],
   "source": [
    "classifier1"
   ]
  },
  {
   "cell_type": "code",
   "execution_count": null,
   "metadata": {
    "collapsed": false
   },
   "outputs": [],
   "source": [
    "classifier1.index = classifier1.index.map(lambda x: x.split('.'))"
   ]
  },
  {
   "cell_type": "code",
   "execution_count": null,
   "metadata": {
    "collapsed": false,
    "scrolled": true
   },
   "outputs": [],
   "source": [
    "num_class = classifier1.parameters\n"
   ]
  },
  {
   "cell_type": "code",
   "execution_count": null,
   "metadata": {
    "collapsed": false,
    "scrolled": true
   },
   "outputs": [],
   "source": [
    "classifier1.ix[(len(name) > 1)]"
   ]
  },
  {
   "cell_type": "code",
   "execution_count": null,
   "metadata": {
    "collapsed": false
   },
   "outputs": [],
   "source": [
    "classifier1.index[len(classifier1)-1].split('.')"
   ]
  },
  {
   "cell_type": "code",
   "execution_count": null,
   "metadata": {
    "collapsed": false
   },
   "outputs": [],
   "source": [
    "aux.time_retriever(estim)"
   ]
  },
  {
   "cell_type": "code",
   "execution_count": 15,
   "metadata": {
    "collapsed": false
   },
   "outputs": [],
   "source": [
    "import inter_prede"
   ]
  },
  {
   "cell_type": "code",
   "execution_count": 16,
   "metadata": {
    "collapsed": false
   },
   "outputs": [
    {
     "ename": "AttributeError",
     "evalue": "'hyperopt_estimator' object has no attribute '_best_preprocs'",
     "output_type": "error",
     "traceback": [
      "\u001b[0;31m---------------------------------------------------------------------------\u001b[0m",
      "\u001b[0;31mAttributeError\u001b[0m                            Traceback (most recent call last)",
      "\u001b[0;32m<ipython-input-16-35d33caac26d>\u001b[0m in \u001b[0;36m<module>\u001b[0;34m()\u001b[0m\n\u001b[0;32m----> 1\u001b[0;31m \u001b[0my_bis\u001b[0m \u001b[0;34m=\u001b[0m \u001b[0minter_prede\u001b[0m\u001b[0;34m.\u001b[0m\u001b[0mtest_abalone\u001b[0m\u001b[0;34m(\u001b[0m\u001b[0mX_train\u001b[0m\u001b[0;34m,\u001b[0m \u001b[0my_train\u001b[0m\u001b[0;34m,\u001b[0m \u001b[0mX_test\u001b[0m\u001b[0;34m,\u001b[0m \u001b[0my_test\u001b[0m\u001b[0;34m)\u001b[0m\u001b[0;34m\u001b[0m\u001b[0m\n\u001b[0m",
      "\u001b[0;32m/home/selma/hp-sk/Notebooks/inter_prede.py\u001b[0m in \u001b[0;36mtest_abalone\u001b[0;34m(X_train, y_train, X_test, y_test)\u001b[0m\n\u001b[1;32m     25\u001b[0m     \u001b[0mnext\u001b[0m\u001b[0;34m(\u001b[0m\u001b[0miterator\u001b[0m\u001b[0;34m)\u001b[0m\u001b[0;34m\u001b[0m\u001b[0m\n\u001b[1;32m     26\u001b[0m     \u001b[0my\u001b[0m \u001b[0;34m=\u001b[0m\u001b[0;34m[\u001b[0m\u001b[0;34m]\u001b[0m\u001b[0;34m\u001b[0m\u001b[0m\n\u001b[0;32m---> 27\u001b[0;31m     \u001b[0my\u001b[0m\u001b[0;34m[\u001b[0m\u001b[0;36m0\u001b[0m\u001b[0;34m]\u001b[0m \u001b[0;34m=\u001b[0m \u001b[0mestimator\u001b[0m\u001b[0;34m.\u001b[0m\u001b[0mpredict\u001b[0m\u001b[0;34m(\u001b[0m\u001b[0mself\u001b[0m\u001b[0;34m,\u001b[0m \u001b[0mX_test\u001b[0m\u001b[0;34m)\u001b[0m\u001b[0;34m\u001b[0m\u001b[0m\n\u001b[0m\u001b[1;32m     28\u001b[0m     \u001b[0mn_trial\u001b[0m \u001b[0;34m=\u001b[0m \u001b[0;36m0\u001b[0m\u001b[0;34m\u001b[0m\u001b[0m\n\u001b[1;32m     29\u001b[0m     \u001b[0;32mwhile\u001b[0m \u001b[0mlen\u001b[0m\u001b[0;34m(\u001b[0m\u001b[0mestimator\u001b[0m\u001b[0;34m.\u001b[0m\u001b[0mtrials\u001b[0m\u001b[0;34m.\u001b[0m\u001b[0mtrials\u001b[0m\u001b[0;34m)\u001b[0m \u001b[0;34m<\u001b[0m \u001b[0mestimator\u001b[0m\u001b[0;34m.\u001b[0m\u001b[0mmax_evals\u001b[0m\u001b[0;34m:\u001b[0m\u001b[0;34m\u001b[0m\u001b[0m\n",
      "\u001b[0;32m/home/selma/hyperopt-sklearn/hpsklearn/estimator.py\u001b[0m in \u001b[0;36mpredict\u001b[0;34m(self, X, EX_list)\u001b[0m\n\u001b[1;32m    726\u001b[0m             \u001b[0mX\u001b[0m \u001b[0;34m=\u001b[0m \u001b[0mnp\u001b[0m\u001b[0;34m.\u001b[0m\u001b[0marray\u001b[0m\u001b[0;34m(\u001b[0m\u001b[0mX\u001b[0m\u001b[0;34m)\u001b[0m\u001b[0;34m\u001b[0m\u001b[0m\n\u001b[1;32m    727\u001b[0m         XEX = transform_combine_XEX(\n\u001b[0;32m--> 728\u001b[0;31m             \u001b[0mX\u001b[0m\u001b[0;34m,\u001b[0m \u001b[0mself\u001b[0m\u001b[0;34m.\u001b[0m\u001b[0minfo\u001b[0m\u001b[0;34m,\u001b[0m \u001b[0men_pps\u001b[0m\u001b[0;34m=\u001b[0m\u001b[0mself\u001b[0m\u001b[0;34m.\u001b[0m\u001b[0m_best_preprocs\u001b[0m\u001b[0;34m,\u001b[0m\u001b[0;34m\u001b[0m\u001b[0m\n\u001b[0m\u001b[1;32m    729\u001b[0m             \u001b[0mEXfit_list\u001b[0m\u001b[0;34m=\u001b[0m\u001b[0mEX_list\u001b[0m\u001b[0;34m,\u001b[0m \u001b[0mex_pps_list\u001b[0m\u001b[0;34m=\u001b[0m\u001b[0mself\u001b[0m\u001b[0;34m.\u001b[0m\u001b[0m_best_ex_preprocs\u001b[0m\u001b[0;34m\u001b[0m\u001b[0m\n\u001b[1;32m    730\u001b[0m         )\n",
      "\u001b[0;31mAttributeError\u001b[0m: 'hyperopt_estimator' object has no attribute '_best_preprocs'"
     ]
    }
   ],
   "source": [
    "y_bis = inter_prede.test_abalone(X_train, y_train, X_test, y_test)"
   ]
  },
  {
   "cell_type": "code",
   "execution_count": 18,
   "metadata": {
    "collapsed": false
   },
   "outputs": [],
   "source": [
    "y = estim.fit_iter(X_train, y_train)"
   ]
  },
  {
   "cell_type": "code",
   "execution_count": 20,
   "metadata": {
    "collapsed": false
   },
   "outputs": [
    {
     "name": "stdout",
     "output_type": "stream",
     "text": [
      "<generator object hyperopt_estimator.fit_iter at 0x7f464355e468>\n"
     ]
    }
   ],
   "source": []
  },
  {
   "cell_type": "code",
   "execution_count": null,
   "metadata": {
    "collapsed": true
   },
   "outputs": [],
   "source": []
  }
 ],
 "metadata": {
  "kernelspec": {
   "display_name": "Python 3",
   "language": "python",
   "name": "python3"
  },
  "language_info": {
   "codemirror_mode": {
    "name": "ipython",
    "version": 3
   },
   "file_extension": ".py",
   "mimetype": "text/x-python",
   "name": "python",
   "nbconvert_exporter": "python",
   "pygments_lexer": "ipython3",
   "version": "3.5.2"
  }
 },
 "nbformat": 4,
 "nbformat_minor": 1
}
